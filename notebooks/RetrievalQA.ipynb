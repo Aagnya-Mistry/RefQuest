{
 "cells": [
  {
   "cell_type": "code",
   "execution_count": 1,
   "id": "45aa87e5-5174-449b-ab08-ecae2671b5b8",
   "metadata": {
    "scrolled": true
   },
   "outputs": [
    {
     "name": "stdout",
     "output_type": "stream",
     "text": [
      "Defaulting to user installation because normal site-packages is not writeable\n",
      "Requirement already satisfied: langchain-huggingface in c:\\users\\agnya mistry\\appdata\\roaming\\python\\python312\\site-packages (0.3.0)\n",
      "Requirement already satisfied: langchain-core<1.0.0,>=0.3.65 in c:\\users\\agnya mistry\\appdata\\roaming\\python\\python312\\site-packages (from langchain-huggingface) (0.3.68)\n",
      "Requirement already satisfied: tokenizers>=0.19.1 in c:\\users\\agnya mistry\\appdata\\roaming\\python\\python312\\site-packages (from langchain-huggingface) (0.21.2)\n",
      "Requirement already satisfied: huggingface-hub>=0.30.2 in c:\\users\\agnya mistry\\appdata\\roaming\\python\\python312\\site-packages (from langchain-huggingface) (0.33.4)\n",
      "Requirement already satisfied: filelock in c:\\programdata\\anaconda3\\lib\\site-packages (from huggingface-hub>=0.30.2->langchain-huggingface) (3.13.1)\n",
      "Requirement already satisfied: fsspec>=2023.5.0 in c:\\programdata\\anaconda3\\lib\\site-packages (from huggingface-hub>=0.30.2->langchain-huggingface) (2024.6.1)\n",
      "Requirement already satisfied: packaging>=20.9 in c:\\programdata\\anaconda3\\lib\\site-packages (from huggingface-hub>=0.30.2->langchain-huggingface) (24.1)\n",
      "Requirement already satisfied: pyyaml>=5.1 in c:\\programdata\\anaconda3\\lib\\site-packages (from huggingface-hub>=0.30.2->langchain-huggingface) (6.0.1)\n",
      "Requirement already satisfied: requests in c:\\programdata\\anaconda3\\lib\\site-packages (from huggingface-hub>=0.30.2->langchain-huggingface) (2.32.3)\n",
      "Requirement already satisfied: tqdm>=4.42.1 in c:\\programdata\\anaconda3\\lib\\site-packages (from huggingface-hub>=0.30.2->langchain-huggingface) (4.66.5)\n",
      "Requirement already satisfied: typing-extensions>=3.7.4.3 in c:\\users\\agnya mistry\\appdata\\roaming\\python\\python312\\site-packages (from huggingface-hub>=0.30.2->langchain-huggingface) (4.14.1)\n",
      "Requirement already satisfied: langsmith>=0.3.45 in c:\\users\\agnya mistry\\appdata\\roaming\\python\\python312\\site-packages (from langchain-core<1.0.0,>=0.3.65->langchain-huggingface) (0.4.5)\n",
      "Requirement already satisfied: tenacity!=8.4.0,<10.0.0,>=8.1.0 in c:\\programdata\\anaconda3\\lib\\site-packages (from langchain-core<1.0.0,>=0.3.65->langchain-huggingface) (8.2.3)\n",
      "Requirement already satisfied: jsonpatch<2.0,>=1.33 in c:\\programdata\\anaconda3\\lib\\site-packages (from langchain-core<1.0.0,>=0.3.65->langchain-huggingface) (1.33)\n",
      "Requirement already satisfied: pydantic>=2.7.4 in c:\\users\\agnya mistry\\appdata\\roaming\\python\\python312\\site-packages (from langchain-core<1.0.0,>=0.3.65->langchain-huggingface) (2.11.7)\n",
      "Requirement already satisfied: jsonpointer>=1.9 in c:\\programdata\\anaconda3\\lib\\site-packages (from jsonpatch<2.0,>=1.33->langchain-core<1.0.0,>=0.3.65->langchain-huggingface) (2.1)\n",
      "Requirement already satisfied: httpx<1,>=0.23.0 in c:\\programdata\\anaconda3\\lib\\site-packages (from langsmith>=0.3.45->langchain-core<1.0.0,>=0.3.65->langchain-huggingface) (0.27.0)\n",
      "Requirement already satisfied: orjson<4.0.0,>=3.9.14 in c:\\users\\agnya mistry\\appdata\\roaming\\python\\python312\\site-packages (from langsmith>=0.3.45->langchain-core<1.0.0,>=0.3.65->langchain-huggingface) (3.10.18)\n",
      "Requirement already satisfied: requests-toolbelt<2.0.0,>=1.0.0 in c:\\programdata\\anaconda3\\lib\\site-packages (from langsmith>=0.3.45->langchain-core<1.0.0,>=0.3.65->langchain-huggingface) (1.0.0)\n",
      "Requirement already satisfied: zstandard<0.24.0,>=0.23.0 in c:\\programdata\\anaconda3\\lib\\site-packages (from langsmith>=0.3.45->langchain-core<1.0.0,>=0.3.65->langchain-huggingface) (0.23.0)\n",
      "Requirement already satisfied: annotated-types>=0.6.0 in c:\\programdata\\anaconda3\\lib\\site-packages (from pydantic>=2.7.4->langchain-core<1.0.0,>=0.3.65->langchain-huggingface) (0.6.0)\n",
      "Requirement already satisfied: pydantic-core==2.33.2 in c:\\users\\agnya mistry\\appdata\\roaming\\python\\python312\\site-packages (from pydantic>=2.7.4->langchain-core<1.0.0,>=0.3.65->langchain-huggingface) (2.33.2)\n",
      "Requirement already satisfied: typing-inspection>=0.4.0 in c:\\users\\agnya mistry\\appdata\\roaming\\python\\python312\\site-packages (from pydantic>=2.7.4->langchain-core<1.0.0,>=0.3.65->langchain-huggingface) (0.4.1)\n",
      "Requirement already satisfied: charset-normalizer<4,>=2 in c:\\programdata\\anaconda3\\lib\\site-packages (from requests->huggingface-hub>=0.30.2->langchain-huggingface) (3.3.2)\n",
      "Requirement already satisfied: idna<4,>=2.5 in c:\\programdata\\anaconda3\\lib\\site-packages (from requests->huggingface-hub>=0.30.2->langchain-huggingface) (3.7)\n",
      "Requirement already satisfied: urllib3<3,>=1.21.1 in c:\\programdata\\anaconda3\\lib\\site-packages (from requests->huggingface-hub>=0.30.2->langchain-huggingface) (2.2.3)\n",
      "Requirement already satisfied: certifi>=2017.4.17 in c:\\programdata\\anaconda3\\lib\\site-packages (from requests->huggingface-hub>=0.30.2->langchain-huggingface) (2024.12.14)\n",
      "Requirement already satisfied: colorama in c:\\programdata\\anaconda3\\lib\\site-packages (from tqdm>=4.42.1->huggingface-hub>=0.30.2->langchain-huggingface) (0.4.6)\n",
      "Requirement already satisfied: anyio in c:\\programdata\\anaconda3\\lib\\site-packages (from httpx<1,>=0.23.0->langsmith>=0.3.45->langchain-core<1.0.0,>=0.3.65->langchain-huggingface) (4.2.0)\n",
      "Requirement already satisfied: httpcore==1.* in c:\\programdata\\anaconda3\\lib\\site-packages (from httpx<1,>=0.23.0->langsmith>=0.3.45->langchain-core<1.0.0,>=0.3.65->langchain-huggingface) (1.0.2)\n",
      "Requirement already satisfied: sniffio in c:\\programdata\\anaconda3\\lib\\site-packages (from httpx<1,>=0.23.0->langsmith>=0.3.45->langchain-core<1.0.0,>=0.3.65->langchain-huggingface) (1.3.0)\n",
      "Requirement already satisfied: h11<0.15,>=0.13 in c:\\programdata\\anaconda3\\lib\\site-packages (from httpcore==1.*->httpx<1,>=0.23.0->langsmith>=0.3.45->langchain-core<1.0.0,>=0.3.65->langchain-huggingface) (0.14.0)\n",
      "Note: you may need to restart the kernel to use updated packages.\n"
     ]
    }
   ],
   "source": [
    "pip install -U langchain-huggingface"
   ]
  },
  {
   "cell_type": "code",
   "execution_count": 3,
   "id": "846390d6-9bdb-44ac-9482-94b5aac4618b",
   "metadata": {},
   "outputs": [],
   "source": [
    "import os\n",
    "import streamlit as st\n",
    "import pickle\n",
    "import time\n",
    "import langchain\n",
    "from langchain import OpenAI\n",
    "from langchain.chains import RetrievalQAWithSourcesChain\n",
    "from langchain.chains.qa_with_sources.loading import load_qa_with_sources_chain\n",
    "from langchain.text_splitter import RecursiveCharacterTextSplitter\n",
    "from langchain.document_loaders import UnstructuredURLLoader\n",
    "from langchain.embeddings import OpenAIEmbeddings\n",
    "from langchain.vectorstores import FAISS"
   ]
  },
  {
   "cell_type": "code",
   "execution_count": 5,
   "id": "e73da6c6-2cda-42dc-9c05-98d8e2219218",
   "metadata": {},
   "outputs": [],
   "source": [
    "import google.generativeai as genai"
   ]
  },
  {
   "cell_type": "code",
   "execution_count": 10,
   "id": "8596a99f-43a2-4f22-8ef3-6447b9c9f88d",
   "metadata": {},
   "outputs": [],
   "source": [
    "from typing import Optional, List\n",
    "from langchain_core.language_models.llms import LLM "
   ]
  },
  {
   "cell_type": "code",
   "execution_count": 12,
   "id": "91326914-e43c-42d7-9654-642f0538a92d",
   "metadata": {},
   "outputs": [],
   "source": [
    "class GeminiLLM(LLM):\n",
    "    model: str = \"gemini-1.5-flash\"\n",
    "\n",
    "    def _call(self, prompt: str, stop: Optional[List[str]] = None) -> str:\n",
    "        model = genai.GenerativeModel(self.model)\n",
    "        response = model.generate_content(prompt)\n",
    "        return response.text\n",
    "\n",
    "    @property\n",
    "    def _llm_type(self) -> str:\n",
    "        return \"google_gemini_llm\"\n",
    "\n",
    "\n",
    "# Instantiate our custom Gemini LLM\n",
    "llm = GeminiLLM()"
   ]
  },
  {
   "cell_type": "code",
   "execution_count": 14,
   "id": "dab1eb4a-5fcc-4daa-b697-6c83b2d857a7",
   "metadata": {},
   "outputs": [
    {
     "data": {
      "text/plain": [
       "2"
      ]
     },
     "execution_count": 14,
     "metadata": {},
     "output_type": "execute_result"
    }
   ],
   "source": [
    "from langchain.document_loaders import UnstructuredURLLoader\n",
    "\n",
    "loader_url = UnstructuredURLLoader(urls = [\n",
    "    \"https://www.moneycontrol.com/news/business/lilavati-medical-trust-versus-hdfc-bank-what-the-dispute-is-all-about-13258639.html\",\n",
    "    \"https://www.moneycontrol.com/news/business/stocks/hdfc-bank-shares-trade-higher-touches-days-high-of-rs-1994-90-alpha-article-13241800.html\"\n",
    "])\n",
    "data=loader_url.load()\n",
    "len(data)"
   ]
  },
  {
   "cell_type": "code",
   "execution_count": 16,
   "id": "8645c938-e1c6-4232-be3e-a5c7d0d09b8c",
   "metadata": {},
   "outputs": [
    {
     "data": {
      "text/plain": [
       "21"
      ]
     },
     "execution_count": 16,
     "metadata": {},
     "output_type": "execute_result"
    }
   ],
   "source": [
    "from langchain.text_splitter import RecursiveCharacterTextSplitter\n",
    "\n",
    "splitter = RecursiveCharacterTextSplitter(\n",
    "    chunk_size=1000,\n",
    "    chunk_overlap=200\n",
    ")\n",
    "chunks = splitter.split_documents(data)\n",
    "len(chunks)"
   ]
  },
  {
   "cell_type": "code",
   "execution_count": 18,
   "id": "839bad18-9fc9-45d0-8dcc-e99cdf30f6f9",
   "metadata": {},
   "outputs": [
    {
     "data": {
      "text/plain": [
       "Document(metadata={'source': 'https://www.moneycontrol.com/news/business/lilavati-medical-trust-versus-hdfc-bank-what-the-dispute-is-all-about-13258639.html'}, page_content='English\\n\\nHindi\\n\\nGujarati\\n\\nSpecials\\n\\nHello, Login\\n\\nHello, Login\\n\\nLog-inor Sign-Up\\n\\nMy Account\\n\\nMy Profile\\n\\nMy Portfolio\\n\\nMy Watchlist\\n\\nMy Alerts\\n\\nMy Messages\\n\\nPrice Alerts\\n\\nMy Profile\\n\\nMy PRO\\n\\nMy Portfolio\\n\\nMy Watchlist\\n\\nMy Alerts\\n\\nMy Messages\\n\\nPrice Alerts\\n\\nLogout\\n\\nLoans up to ₹50 LAKHS\\n\\nFixed Deposits\\n\\nCredit CardsLifetime Free\\n\\nCredit Score\\n\\nChat with Us\\n\\nDownload App\\n\\nFollow us on:\\n\\nNetwork 18\\n\\nGo Ad-Free\\n\\nMy Alerts\\n\\n>->MC_ENG_DESKTOP/MC_ENG_NEWS/MC_ENG_BUSINESS_AS/MC_ENG_ROS_NWS_BUS_AS_ATF_728\\n\\nMoneycontrol\\n\\nGo PRO NowPRO\\n\\nMoneycontrol PRO\\n\\nAdvertisement\\n\\nRemove Ad\\n\\nBusiness\\n\\nMarkets\\n\\nStocks\\n\\nEconomy\\n\\nCompanies\\n\\nTrends\\n\\nIPO\\n\\nOpinion\\n\\nEV Special\\n\\nSubscription Products\\n\\nprofile\\n\\nAmbareesh Baliga\\n\\nprofile\\n\\nCK Narayan\\n\\nprofile\\n\\nT Gnanasekar\\n\\nprofile\\n\\nPower Your Trade\\n\\nprofile\\n\\nCurrencies with Mecklai Financial\\n\\nprofile\\n\\nStock Reports\\n\\nLoans\\n\\nLoans\\n\\nHomeNewsBusinessLilavati Medical Trust versus HDFC Bank: What the dispute is all about\\n\\nTrending Topics')"
      ]
     },
     "execution_count": 18,
     "metadata": {},
     "output_type": "execute_result"
    }
   ],
   "source": [
    "chunks[0]"
   ]
  },
  {
   "cell_type": "code",
   "execution_count": 20,
   "id": "52eedf1c-2971-4a36-adea-1e230f25c26b",
   "metadata": {},
   "outputs": [],
   "source": [
    "from langchain.vectorstores import FAISS\n",
    "from langchain_huggingface import HuggingFaceEmbeddings  # ✅ Updated import\n",
    "\n",
    "# Load embeddings\n",
    "embeddings = HuggingFaceEmbeddings(model_name=\"sentence-transformers/all-mpnet-base-v2\")\n",
    "\n",
    "# Use with FAISS\n",
    "vectorstore = FAISS.from_documents(chunks, embeddings)"
   ]
  },
  {
   "cell_type": "code",
   "execution_count": 22,
   "id": "342e9e95-e529-4157-b249-f88565b57821",
   "metadata": {},
   "outputs": [],
   "source": [
    "file_path=\"vector_index.pkl\"\n",
    "with open(file_path, \"wb\") as f:\n",
    "    pickle.dump(vectorstore,f)"
   ]
  },
  {
   "cell_type": "code",
   "execution_count": 24,
   "id": "6dd44bcc-795c-4dc7-a3ee-f0c04aa93e89",
   "metadata": {},
   "outputs": [],
   "source": [
    "if os.path.exists(file_path):\n",
    "        with open(file_path,\"rb\") as f:\n",
    "            vectorIndex = pickle.load(f)"
   ]
  },
  {
   "cell_type": "code",
   "execution_count": 30,
   "id": "ee3d28a3-8f7e-4cb9-a107-07389b218a87",
   "metadata": {},
   "outputs": [
    {
     "data": {
      "text/plain": [
       "RetrievalQAWithSourcesChain(verbose=False, combine_documents_chain=MapReduceDocumentsChain(verbose=False, llm_chain=LLMChain(verbose=False, prompt=PromptTemplate(input_variables=['context', 'question'], input_types={}, partial_variables={}, template='Use the following portion of a long document to see if any of the text is relevant to answer the question. \\nReturn any relevant text verbatim.\\n{context}\\nQuestion: {question}\\nRelevant text, if any:'), llm=GeminiLLM(), output_parser=StrOutputParser(), llm_kwargs={}), reduce_documents_chain=ReduceDocumentsChain(verbose=False, combine_documents_chain=StuffDocumentsChain(verbose=False, llm_chain=LLMChain(verbose=False, prompt=PromptTemplate(input_variables=['question', 'summaries'], input_types={}, partial_variables={}, template='Given the following extracted parts of a long document and a question, create a final answer with references (\"SOURCES\"). \\nIf you don\\'t know the answer, just say that you don\\'t know. Don\\'t try to make up an answer.\\nALWAYS return a \"SOURCES\" part in your answer.\\n\\nQUESTION: Which state/country\\'s law governs the interpretation of the contract?\\n=========\\nContent: This Agreement is governed by English law and the parties submit to the exclusive jurisdiction of the English courts in  relation to any dispute (contractual or non-contractual) concerning this Agreement save that either party may apply to any court for an  injunction or other relief to protect its Intellectual Property Rights.\\nSource: 28-pl\\nContent: No Waiver. Failure or delay in exercising any right or remedy under this Agreement shall not constitute a waiver of such (or any other)  right or remedy.\\n\\n11.7 Severability. The invalidity, illegality or unenforceability of any term (or part of a term) of this Agreement shall not affect the continuation  in force of the remainder of the term (if any) and this Agreement.\\n\\n11.8 No Agency. Except as expressly stated otherwise, nothing in this Agreement shall create an agency, partnership or joint venture of any  kind between the parties.\\n\\n11.9 No Third-Party Beneficiaries.\\nSource: 30-pl\\nContent: (b) if Google believes, in good faith, that the Distributor has violated or caused Google to violate any Anti-Bribery Laws (as  defined in Clause 8.5) or that such a violation is reasonably likely to occur,\\nSource: 4-pl\\n=========\\nFINAL ANSWER: This Agreement is governed by English law.\\nSOURCES: 28-pl\\n\\nQUESTION: What did the president say about Michael Jackson?\\n=========\\nContent: Madam Speaker, Madam Vice President, our First Lady and Second Gentleman. Members of Congress and the Cabinet. Justices of the Supreme Court. My fellow Americans.  \\n\\nLast year COVID-19 kept us apart. This year we are finally together again. \\n\\nTonight, we meet as Democrats Republicans and Independents. But most importantly as Americans. \\n\\nWith a duty to one another to the American people to the Constitution. \\n\\nAnd with an unwavering resolve that freedom will always triumph over tyranny. \\n\\nSix days ago, Russia’s Vladimir Putin sought to shake the foundations of the free world thinking he could make it bend to his menacing ways. But he badly miscalculated. \\n\\nHe thought he could roll into Ukraine and the world would roll over. Instead he met a wall of strength he never imagined. \\n\\nHe met the Ukrainian people. \\n\\nFrom President Zelenskyy to every Ukrainian, their fearlessness, their courage, their determination, inspires the world. \\n\\nGroups of citizens blocking tanks with their bodies. Everyone from students to retirees teachers turned soldiers defending their homeland.\\nSource: 0-pl\\nContent: And we won’t stop. \\n\\nWe have lost so much to COVID-19. Time with one another. And worst of all, so much loss of life. \\n\\nLet’s use this moment to reset. Let’s stop looking at COVID-19 as a partisan dividing line and see it for what it is: A God-awful disease.  \\n\\nLet’s stop seeing each other as enemies, and start seeing each other for who we really are: Fellow Americans.  \\n\\nWe can’t change how divided we’ve been. But we can change how we move forward—on COVID-19 and other issues we must face together. \\n\\nI recently visited the New York City Police Department days after the funerals of Officer Wilbert Mora and his partner, Officer Jason Rivera. \\n\\nThey were responding to a 9-1-1 call when a man shot and killed them with a stolen gun. \\n\\nOfficer Mora was 27 years old. \\n\\nOfficer Rivera was 22. \\n\\nBoth Dominican Americans who’d grown up on the same streets they later chose to patrol as police officers. \\n\\nI spoke with their families and told them that we are forever in debt for their sacrifice, and we will carry on their mission to restore the trust and safety every community deserves.\\nSource: 24-pl\\nContent: And a proud Ukrainian people, who have known 30 years  of independence, have repeatedly shown that they will not tolerate anyone who tries to take their country backwards.  \\n\\nTo all Americans, I will be honest with you, as I’ve always promised. A Russian dictator, invading a foreign country, has costs around the world. \\n\\nAnd I’m taking robust action to make sure the pain of our sanctions  is targeted at Russia’s economy. And I will use every tool at our disposal to protect American businesses and consumers. \\n\\nTonight, I can announce that the United States has worked with 30 other countries to release 60 Million barrels of oil from reserves around the world.  \\n\\nAmerica will lead that effort, releasing 30 Million barrels from our own Strategic Petroleum Reserve. And we stand ready to do more if necessary, unified with our allies.  \\n\\nThese steps will help blunt gas prices here at home. And I know the news about what’s happening can seem alarming. \\n\\nBut I want you to know that we are going to be okay.\\nSource: 5-pl\\nContent: More support for patients and families. \\n\\nTo get there, I call on Congress to fund ARPA-H, the Advanced Research Projects Agency for Health. \\n\\nIt’s based on DARPA—the Defense Department project that led to the Internet, GPS, and so much more.  \\n\\nARPA-H will have a singular purpose—to drive breakthroughs in cancer, Alzheimer’s, diabetes, and more. \\n\\nA unity agenda for the nation. \\n\\nWe can do this. \\n\\nMy fellow Americans—tonight , we have gathered in a sacred space—the citadel of our democracy. \\n\\nIn this Capitol, generation after generation, Americans have debated great questions amid great strife, and have done great things. \\n\\nWe have fought for freedom, expanded liberty, defeated totalitarianism and terror. \\n\\nAnd built the strongest, freest, and most prosperous nation the world has ever known. \\n\\nNow is the hour. \\n\\nOur moment of responsibility. \\n\\nOur test of resolve and conscience, of history itself. \\n\\nIt is in this moment that our character is formed. Our purpose is found. Our future is forged. \\n\\nWell I know this nation.\\nSource: 34-pl\\n=========\\nFINAL ANSWER: The president did not mention Michael Jackson.\\nSOURCES:\\n\\nQUESTION: {question}\\n=========\\n{summaries}\\n=========\\nFINAL ANSWER:'), llm=GeminiLLM(), output_parser=StrOutputParser(), llm_kwargs={}), document_prompt=PromptTemplate(input_variables=['page_content', 'source'], input_types={}, partial_variables={}, template='Content: {page_content}\\nSource: {source}'), document_variable_name='summaries')), document_variable_name='context'), retriever=VectorStoreRetriever(tags=['FAISS', 'HuggingFaceEmbeddings'], vectorstore=<langchain_community.vectorstores.faiss.FAISS object at 0x0000016ABF638FE0>, search_kwargs={}))"
      ]
     },
     "execution_count": 30,
     "metadata": {},
     "output_type": "execute_result"
    }
   ],
   "source": [
    "from langchain.chains import RetrievalQAWithSourcesChain\n",
    "\n",
    "chain = RetrievalQAWithSourcesChain.from_llm(llm=llm, retriever=vectorIndex.as_retriever())\n",
    "chain"
   ]
  },
  {
   "cell_type": "code",
   "execution_count": 34,
   "id": "f13acd12-a177-4efb-ac65-9bf9b2cfe721",
   "metadata": {},
   "outputs": [
    {
     "name": "stdout",
     "output_type": "stream",
     "text": [
      "\u001b[32;1m\u001b[1;3m[chain/start]\u001b[0m \u001b[1m[chain:RetrievalQAWithSourcesChain] Entering Chain run with input:\n",
      "\u001b[0m{\n",
      "  \"question\": \"What allegations has the Lilavati Medical Trust made?\"\n",
      "}\n",
      "\u001b[32;1m\u001b[1;3m[chain/start]\u001b[0m \u001b[1m[chain:RetrievalQAWithSourcesChain > chain:MapReduceDocumentsChain] Entering Chain run with input:\n",
      "\u001b[0m[inputs]\n",
      "\u001b[32;1m\u001b[1;3m[chain/start]\u001b[0m \u001b[1m[chain:RetrievalQAWithSourcesChain > chain:MapReduceDocumentsChain > chain:LLMChain] Entering Chain run with input:\n",
      "\u001b[0m{\n",
      "  \"input_list\": [\n",
      "    {\n",
      "      \"context\": \"What allegations has the Lilavati Medical Trust made?\\n\\nThe Trust has accused the bank’s CEO, Jagdishan, and eight others of fraud and misappropriation of the Trust’s funds.\\n\\nThe Trust has accused Jagdishan of accepting a bribe of Rs 2.05 crore to help a group consisting of one Chetan Mehta and other erstwhile trustees to retain illegal control over the Trust. The Trust claimed that the payment was documented in a handwritten cash diary, which had been seized.\\n\\nFurther, the Trust accused Jagdishan of facilitating an illegal deposit of Rs 25 crore of the Trust’s funds into an HDFC Bank account without any board resolution, trustee approval or proper oversight, as per media reports. According to the Trust, these financial actions reflect a serious breach of governance norms and raise concerns about complicity at the bank.\",\n",
      "      \"question\": \"What allegations has the Lilavati Medical Trust made?\"\n",
      "    },\n",
      "    {\n",
      "      \"context\": \"In another allegation, the Trust claimed that Rs 1.5 crore was disbursed to hospital staff under the pretext of CSR donations from HDFC Bank, but alleged it was a bribe to suppress information leaks and internal conflict over the wrongdoing, according to media reports.\\n\\nWhen was the FIR lodged?\\n\\nFollowing the magistrate’s order on the Trust’s complaint on May 29, the Bandra police registered offences punishable under sections 406, 409 (criminal breach of trust) and 420 (cheating) of the Indian Penal Code (IPC) and had directed the police to probe the matter as per section 175 (3) of the Bharatiya Nagrik Suraksha Sanhita (BNSS).\\n\\nThe Bandra police station lodged an FIR on May 31.\\n\\nWhat was the bank’s response to the FIR?\",\n",
      "      \"question\": \"What allegations has the Lilavati Medical Trust made?\"\n",
      "    },\n",
      "    {\n",
      "      \"context\": \"The Bandra police station lodged an FIR on May 31.\\n\\nWhat was the bank’s response to the FIR?\\n\\nHDFC Bank, on June 8, in a release, said that the bank once again unequivocally rejects and strongly condemns the malicious and baseless allegations levelled and maintains that these allegations are completely false, outrageous, and constitute a gross misuse of the legal process.\\n\\n“The Bank firmly believes that these actions are a deliberate attempt to obstruct and undermine legitimate recovery proceedings related to substantial long-outstanding dues owed by Splendour Gems Limited,” HDFC Bank said in a release.\\n\\nTrust seeks CBI investigation\\n\\nAccording to the media reports, the Trust had filed a petition in the Bombay High Court seeking the transfer of the investigation of the bribery case to the Central Bureau of Investigation (CBI).\\n\\nBombay High Court judges recuse from hearing the plea\",\n",
      "      \"question\": \"What allegations has the Lilavati Medical Trust made?\"\n",
      "    },\n",
      "    {\n",
      "      \"context\": \"PSU banks lead private lenders in issuance of certificates of deposit in June\\n\\nRupee opens 21 paise down against dollar at 86.01 as dollar rises\\n\\nRupee opens 21 paise down against dollar at 86.01 as dollar rises\\n\\nThe outstanding dues towards HDFC Bank, including interest, amount to approximately Rs 65.22 crore as on May 31, 2025.\\n\\nEven after a recovery certificate was issued by the Debt Recovery Tribunal in 2004 and subsequent enforcement actions, the dues remain unpaid.\\n\\nSplendour Gems Ltd has also been borrowing from other banks/institutions, HDFC Bank said in a statement.\\n\\nStory continues below Advertisement\\n\\nRemove Ad\\n\\nStory continues below Advertisement\\n\\nRemove Ad\\n\\nIn response to ongoing recovery proceedings, members of the Mehta family have initiated multiple legal actions and complaints against HDFC Bank and its senior officials, the bank’s release added.\\n\\nWhat allegations has the Lilavati Medical Trust made?\",\n",
      "      \"question\": \"What allegations has the Lilavati Medical Trust made?\"\n",
      "    }\n",
      "  ]\n",
      "}\n",
      "\u001b[32;1m\u001b[1;3m[llm/start]\u001b[0m \u001b[1m[chain:RetrievalQAWithSourcesChain > chain:MapReduceDocumentsChain > chain:LLMChain > llm:GeminiLLM] Entering LLM run with input:\n",
      "\u001b[0m{\n",
      "  \"prompts\": [\n",
      "    \"Use the following portion of a long document to see if any of the text is relevant to answer the question. \\nReturn any relevant text verbatim.\\nWhat allegations has the Lilavati Medical Trust made?\\n\\nThe Trust has accused the bank’s CEO, Jagdishan, and eight others of fraud and misappropriation of the Trust’s funds.\\n\\nThe Trust has accused Jagdishan of accepting a bribe of Rs 2.05 crore to help a group consisting of one Chetan Mehta and other erstwhile trustees to retain illegal control over the Trust. The Trust claimed that the payment was documented in a handwritten cash diary, which had been seized.\\n\\nFurther, the Trust accused Jagdishan of facilitating an illegal deposit of Rs 25 crore of the Trust’s funds into an HDFC Bank account without any board resolution, trustee approval or proper oversight, as per media reports. According to the Trust, these financial actions reflect a serious breach of governance norms and raise concerns about complicity at the bank.\\nQuestion: What allegations has the Lilavati Medical Trust made?\\nRelevant text, if any:\"\n",
      "  ]\n",
      "}\n",
      "\u001b[32;1m\u001b[1;3m[llm/start]\u001b[0m \u001b[1m[chain:RetrievalQAWithSourcesChain > chain:MapReduceDocumentsChain > chain:LLMChain > llm:GeminiLLM] Entering LLM run with input:\n",
      "\u001b[0m{\n",
      "  \"prompts\": [\n",
      "    \"Use the following portion of a long document to see if any of the text is relevant to answer the question. \\nReturn any relevant text verbatim.\\nIn another allegation, the Trust claimed that Rs 1.5 crore was disbursed to hospital staff under the pretext of CSR donations from HDFC Bank, but alleged it was a bribe to suppress information leaks and internal conflict over the wrongdoing, according to media reports.\\n\\nWhen was the FIR lodged?\\n\\nFollowing the magistrate’s order on the Trust’s complaint on May 29, the Bandra police registered offences punishable under sections 406, 409 (criminal breach of trust) and 420 (cheating) of the Indian Penal Code (IPC) and had directed the police to probe the matter as per section 175 (3) of the Bharatiya Nagrik Suraksha Sanhita (BNSS).\\n\\nThe Bandra police station lodged an FIR on May 31.\\n\\nWhat was the bank’s response to the FIR?\\nQuestion: What allegations has the Lilavati Medical Trust made?\\nRelevant text, if any:\"\n",
      "  ]\n",
      "}\n",
      "\u001b[32;1m\u001b[1;3m[llm/start]\u001b[0m \u001b[1m[chain:RetrievalQAWithSourcesChain > chain:MapReduceDocumentsChain > chain:LLMChain > llm:GeminiLLM] Entering LLM run with input:\n",
      "\u001b[0m{\n",
      "  \"prompts\": [\n",
      "    \"Use the following portion of a long document to see if any of the text is relevant to answer the question. \\nReturn any relevant text verbatim.\\nThe Bandra police station lodged an FIR on May 31.\\n\\nWhat was the bank’s response to the FIR?\\n\\nHDFC Bank, on June 8, in a release, said that the bank once again unequivocally rejects and strongly condemns the malicious and baseless allegations levelled and maintains that these allegations are completely false, outrageous, and constitute a gross misuse of the legal process.\\n\\n“The Bank firmly believes that these actions are a deliberate attempt to obstruct and undermine legitimate recovery proceedings related to substantial long-outstanding dues owed by Splendour Gems Limited,” HDFC Bank said in a release.\\n\\nTrust seeks CBI investigation\\n\\nAccording to the media reports, the Trust had filed a petition in the Bombay High Court seeking the transfer of the investigation of the bribery case to the Central Bureau of Investigation (CBI).\\n\\nBombay High Court judges recuse from hearing the plea\\nQuestion: What allegations has the Lilavati Medical Trust made?\\nRelevant text, if any:\"\n",
      "  ]\n",
      "}\n",
      "\u001b[32;1m\u001b[1;3m[llm/start]\u001b[0m \u001b[1m[chain:RetrievalQAWithSourcesChain > chain:MapReduceDocumentsChain > chain:LLMChain > llm:GeminiLLM] Entering LLM run with input:\n",
      "\u001b[0m{\n",
      "  \"prompts\": [\n",
      "    \"Use the following portion of a long document to see if any of the text is relevant to answer the question. \\nReturn any relevant text verbatim.\\nPSU banks lead private lenders in issuance of certificates of deposit in June\\n\\nRupee opens 21 paise down against dollar at 86.01 as dollar rises\\n\\nRupee opens 21 paise down against dollar at 86.01 as dollar rises\\n\\nThe outstanding dues towards HDFC Bank, including interest, amount to approximately Rs 65.22 crore as on May 31, 2025.\\n\\nEven after a recovery certificate was issued by the Debt Recovery Tribunal in 2004 and subsequent enforcement actions, the dues remain unpaid.\\n\\nSplendour Gems Ltd has also been borrowing from other banks/institutions, HDFC Bank said in a statement.\\n\\nStory continues below Advertisement\\n\\nRemove Ad\\n\\nStory continues below Advertisement\\n\\nRemove Ad\\n\\nIn response to ongoing recovery proceedings, members of the Mehta family have initiated multiple legal actions and complaints against HDFC Bank and its senior officials, the bank’s release added.\\n\\nWhat allegations has the Lilavati Medical Trust made?\\nQuestion: What allegations has the Lilavati Medical Trust made?\\nRelevant text, if any:\"\n",
      "  ]\n",
      "}\n",
      "\u001b[36;1m\u001b[1;3m[llm/end]\u001b[0m \u001b[1m[chain:RetrievalQAWithSourcesChain > chain:MapReduceDocumentsChain > chain:LLMChain > llm:GeminiLLM] [6.42s] Exiting LLM run with output:\n",
      "\u001b[0m{\n",
      "  \"generations\": [\n",
      "    [\n",
      "      {\n",
      "        \"text\": \"The Trust has accused the bank’s CEO, Jagdishan, and eight others of fraud and misappropriation of the Trust’s funds.\\n\\nThe Trust has accused Jagdishan of accepting a bribe of Rs 2.05 crore to help a group consisting of one Chetan Mehta and other erstwhile trustees to retain illegal control over the Trust. The Trust claimed that the payment was documented in a handwritten cash diary, which had been seized.\\n\\nFurther, the Trust accused Jagdishan of facilitating an illegal deposit of Rs 25 crore of the Trust’s funds into an HDFC Bank account without any board resolution, trustee approval or proper oversight, as per media reports. According to the Trust, these financial actions reflect a serious breach of governance norms and raise concerns about complicity at the bank.\\n\",\n",
      "        \"generation_info\": null,\n",
      "        \"type\": \"Generation\"\n",
      "      }\n",
      "    ]\n",
      "  ],\n",
      "  \"llm_output\": null,\n",
      "  \"run\": null,\n",
      "  \"type\": \"LLMResult\"\n",
      "}\n",
      "\u001b[36;1m\u001b[1;3m[llm/end]\u001b[0m \u001b[1m[chain:RetrievalQAWithSourcesChain > chain:MapReduceDocumentsChain > chain:LLMChain > llm:GeminiLLM] [6.42s] Exiting LLM run with output:\n",
      "\u001b[0m{\n",
      "  \"generations\": [\n",
      "    [\n",
      "      {\n",
      "        \"text\": \"In another allegation, the Trust claimed that Rs 1.5 crore was disbursed to hospital staff under the pretext of CSR donations from HDFC Bank, but alleged it was a bribe to suppress information leaks and internal conflict over the wrongdoing, according to media reports.\\n\",\n",
      "        \"generation_info\": null,\n",
      "        \"type\": \"Generation\"\n",
      "      }\n",
      "    ]\n",
      "  ],\n",
      "  \"llm_output\": null,\n",
      "  \"run\": null,\n",
      "  \"type\": \"LLMResult\"\n",
      "}\n",
      "\u001b[36;1m\u001b[1;3m[llm/end]\u001b[0m \u001b[1m[chain:RetrievalQAWithSourcesChain > chain:MapReduceDocumentsChain > chain:LLMChain > llm:GeminiLLM] [6.42s] Exiting LLM run with output:\n",
      "\u001b[0m{\n",
      "  \"generations\": [\n",
      "    [\n",
      "      {\n",
      "        \"text\": \"No relevant text provided addresses allegations made by the Lilavati Medical Trust.\\n\",\n",
      "        \"generation_info\": null,\n",
      "        \"type\": \"Generation\"\n",
      "      }\n",
      "    ]\n",
      "  ],\n",
      "  \"llm_output\": null,\n",
      "  \"run\": null,\n",
      "  \"type\": \"LLMResult\"\n",
      "}\n",
      "\u001b[36;1m\u001b[1;3m[llm/end]\u001b[0m \u001b[1m[chain:RetrievalQAWithSourcesChain > chain:MapReduceDocumentsChain > chain:LLMChain > llm:GeminiLLM] [6.42s] Exiting LLM run with output:\n",
      "\u001b[0m{\n",
      "  \"generations\": [\n",
      "    [\n",
      "      {\n",
      "        \"text\": \"The provided text does not contain any information about allegations made by the Lilavati Medical Trust.\\n\",\n",
      "        \"generation_info\": null,\n",
      "        \"type\": \"Generation\"\n",
      "      }\n",
      "    ]\n",
      "  ],\n",
      "  \"llm_output\": null,\n",
      "  \"run\": null,\n",
      "  \"type\": \"LLMResult\"\n",
      "}\n",
      "\u001b[36;1m\u001b[1;3m[chain/end]\u001b[0m \u001b[1m[chain:RetrievalQAWithSourcesChain > chain:MapReduceDocumentsChain > chain:LLMChain] [6.42s] Exiting Chain run with output:\n",
      "\u001b[0m{\n",
      "  \"outputs\": [\n",
      "    {\n",
      "      \"text\": \"The Trust has accused the bank’s CEO, Jagdishan, and eight others of fraud and misappropriation of the Trust’s funds.\\n\\nThe Trust has accused Jagdishan of accepting a bribe of Rs 2.05 crore to help a group consisting of one Chetan Mehta and other erstwhile trustees to retain illegal control over the Trust. The Trust claimed that the payment was documented in a handwritten cash diary, which had been seized.\\n\\nFurther, the Trust accused Jagdishan of facilitating an illegal deposit of Rs 25 crore of the Trust’s funds into an HDFC Bank account without any board resolution, trustee approval or proper oversight, as per media reports. According to the Trust, these financial actions reflect a serious breach of governance norms and raise concerns about complicity at the bank.\\n\"\n",
      "    },\n",
      "    {\n",
      "      \"text\": \"In another allegation, the Trust claimed that Rs 1.5 crore was disbursed to hospital staff under the pretext of CSR donations from HDFC Bank, but alleged it was a bribe to suppress information leaks and internal conflict over the wrongdoing, according to media reports.\\n\"\n",
      "    },\n",
      "    {\n",
      "      \"text\": \"No relevant text provided addresses allegations made by the Lilavati Medical Trust.\\n\"\n",
      "    },\n",
      "    {\n",
      "      \"text\": \"The provided text does not contain any information about allegations made by the Lilavati Medical Trust.\\n\"\n",
      "    }\n",
      "  ]\n",
      "}\n",
      "\u001b[32;1m\u001b[1;3m[chain/start]\u001b[0m \u001b[1m[chain:RetrievalQAWithSourcesChain > chain:MapReduceDocumentsChain > chain:LLMChain] Entering Chain run with input:\n",
      "\u001b[0m{\n",
      "  \"question\": \"What allegations has the Lilavati Medical Trust made?\",\n",
      "  \"summaries\": \"Content: The Trust has accused the bank’s CEO, Jagdishan, and eight others of fraud and misappropriation of the Trust’s funds.\\n\\nThe Trust has accused Jagdishan of accepting a bribe of Rs 2.05 crore to help a group consisting of one Chetan Mehta and other erstwhile trustees to retain illegal control over the Trust. The Trust claimed that the payment was documented in a handwritten cash diary, which had been seized.\\n\\nFurther, the Trust accused Jagdishan of facilitating an illegal deposit of Rs 25 crore of the Trust’s funds into an HDFC Bank account without any board resolution, trustee approval or proper oversight, as per media reports. According to the Trust, these financial actions reflect a serious breach of governance norms and raise concerns about complicity at the bank.\\n\\nSource: https://www.moneycontrol.com/news/business/lilavati-medical-trust-versus-hdfc-bank-what-the-dispute-is-all-about-13258639.html\\n\\nContent: In another allegation, the Trust claimed that Rs 1.5 crore was disbursed to hospital staff under the pretext of CSR donations from HDFC Bank, but alleged it was a bribe to suppress information leaks and internal conflict over the wrongdoing, according to media reports.\\n\\nSource: https://www.moneycontrol.com/news/business/lilavati-medical-trust-versus-hdfc-bank-what-the-dispute-is-all-about-13258639.html\\n\\nContent: No relevant text provided addresses allegations made by the Lilavati Medical Trust.\\n\\nSource: https://www.moneycontrol.com/news/business/lilavati-medical-trust-versus-hdfc-bank-what-the-dispute-is-all-about-13258639.html\\n\\nContent: The provided text does not contain any information about allegations made by the Lilavati Medical Trust.\\n\\nSource: https://www.moneycontrol.com/news/business/lilavati-medical-trust-versus-hdfc-bank-what-the-dispute-is-all-about-13258639.html\"\n",
      "}\n",
      "\u001b[32;1m\u001b[1;3m[llm/start]\u001b[0m \u001b[1m[chain:RetrievalQAWithSourcesChain > chain:MapReduceDocumentsChain > chain:LLMChain > llm:GeminiLLM] Entering LLM run with input:\n",
      "\u001b[0m{\n",
      "  \"prompts\": [\n",
      "    \"Given the following extracted parts of a long document and a question, create a final answer with references (\\\"SOURCES\\\"). \\nIf you don't know the answer, just say that you don't know. Don't try to make up an answer.\\nALWAYS return a \\\"SOURCES\\\" part in your answer.\\n\\nQUESTION: Which state/country's law governs the interpretation of the contract?\\n=========\\nContent: This Agreement is governed by English law and the parties submit to the exclusive jurisdiction of the English courts in  relation to any dispute (contractual or non-contractual) concerning this Agreement save that either party may apply to any court for an  injunction or other relief to protect its Intellectual Property Rights.\\nSource: 28-pl\\nContent: No Waiver. Failure or delay in exercising any right or remedy under this Agreement shall not constitute a waiver of such (or any other)  right or remedy.\\n\\n11.7 Severability. The invalidity, illegality or unenforceability of any term (or part of a term) of this Agreement shall not affect the continuation  in force of the remainder of the term (if any) and this Agreement.\\n\\n11.8 No Agency. Except as expressly stated otherwise, nothing in this Agreement shall create an agency, partnership or joint venture of any  kind between the parties.\\n\\n11.9 No Third-Party Beneficiaries.\\nSource: 30-pl\\nContent: (b) if Google believes, in good faith, that the Distributor has violated or caused Google to violate any Anti-Bribery Laws (as  defined in Clause 8.5) or that such a violation is reasonably likely to occur,\\nSource: 4-pl\\n=========\\nFINAL ANSWER: This Agreement is governed by English law.\\nSOURCES: 28-pl\\n\\nQUESTION: What did the president say about Michael Jackson?\\n=========\\nContent: Madam Speaker, Madam Vice President, our First Lady and Second Gentleman. Members of Congress and the Cabinet. Justices of the Supreme Court. My fellow Americans.  \\n\\nLast year COVID-19 kept us apart. This year we are finally together again. \\n\\nTonight, we meet as Democrats Republicans and Independents. But most importantly as Americans. \\n\\nWith a duty to one another to the American people to the Constitution. \\n\\nAnd with an unwavering resolve that freedom will always triumph over tyranny. \\n\\nSix days ago, Russia’s Vladimir Putin sought to shake the foundations of the free world thinking he could make it bend to his menacing ways. But he badly miscalculated. \\n\\nHe thought he could roll into Ukraine and the world would roll over. Instead he met a wall of strength he never imagined. \\n\\nHe met the Ukrainian people. \\n\\nFrom President Zelenskyy to every Ukrainian, their fearlessness, their courage, their determination, inspires the world. \\n\\nGroups of citizens blocking tanks with their bodies. Everyone from students to retirees teachers turned soldiers defending their homeland.\\nSource: 0-pl\\nContent: And we won’t stop. \\n\\nWe have lost so much to COVID-19. Time with one another. And worst of all, so much loss of life. \\n\\nLet’s use this moment to reset. Let’s stop looking at COVID-19 as a partisan dividing line and see it for what it is: A God-awful disease.  \\n\\nLet’s stop seeing each other as enemies, and start seeing each other for who we really are: Fellow Americans.  \\n\\nWe can’t change how divided we’ve been. But we can change how we move forward—on COVID-19 and other issues we must face together. \\n\\nI recently visited the New York City Police Department days after the funerals of Officer Wilbert Mora and his partner, Officer Jason Rivera. \\n\\nThey were responding to a 9-1-1 call when a man shot and killed them with a stolen gun. \\n\\nOfficer Mora was 27 years old. \\n\\nOfficer Rivera was 22. \\n\\nBoth Dominican Americans who’d grown up on the same streets they later chose to patrol as police officers. \\n\\nI spoke with their families and told them that we are forever in debt for their sacrifice, and we will carry on their mission to restore the trust and safety every community deserves.\\nSource: 24-pl\\nContent: And a proud Ukrainian people, who have known 30 years  of independence, have repeatedly shown that they will not tolerate anyone who tries to take their country backwards.  \\n\\nTo all Americans, I will be honest with you, as I’ve always promised. A Russian dictator, invading a foreign country, has costs around the world. \\n\\nAnd I’m taking robust action to make sure the pain of our sanctions  is targeted at Russia’s economy. And I will use every tool at our disposal to protect American businesses and consumers. \\n\\nTonight, I can announce that the United States has worked with 30 other countries to release 60 Million barrels of oil from reserves around the world.  \\n\\nAmerica will lead that effort, releasing 30 Million barrels from our own Strategic Petroleum Reserve. And we stand ready to do more if necessary, unified with our allies.  \\n\\nThese steps will help blunt gas prices here at home. And I know the news about what’s happening can seem alarming. \\n\\nBut I want you to know that we are going to be okay.\\nSource: 5-pl\\nContent: More support for patients and families. \\n\\nTo get there, I call on Congress to fund ARPA-H, the Advanced Research Projects Agency for Health. \\n\\nIt’s based on DARPA—the Defense Department project that led to the Internet, GPS, and so much more.  \\n\\nARPA-H will have a singular purpose—to drive breakthroughs in cancer, Alzheimer’s, diabetes, and more. \\n\\nA unity agenda for the nation. \\n\\nWe can do this. \\n\\nMy fellow Americans—tonight , we have gathered in a sacred space—the citadel of our democracy. \\n\\nIn this Capitol, generation after generation, Americans have debated great questions amid great strife, and have done great things. \\n\\nWe have fought for freedom, expanded liberty, defeated totalitarianism and terror. \\n\\nAnd built the strongest, freest, and most prosperous nation the world has ever known. \\n\\nNow is the hour. \\n\\nOur moment of responsibility. \\n\\nOur test of resolve and conscience, of history itself. \\n\\nIt is in this moment that our character is formed. Our purpose is found. Our future is forged. \\n\\nWell I know this nation.\\nSource: 34-pl\\n=========\\nFINAL ANSWER: The president did not mention Michael Jackson.\\nSOURCES:\\n\\nQUESTION: What allegations has the Lilavati Medical Trust made?\\n=========\\nContent: The Trust has accused the bank’s CEO, Jagdishan, and eight others of fraud and misappropriation of the Trust’s funds.\\n\\nThe Trust has accused Jagdishan of accepting a bribe of Rs 2.05 crore to help a group consisting of one Chetan Mehta and other erstwhile trustees to retain illegal control over the Trust. The Trust claimed that the payment was documented in a handwritten cash diary, which had been seized.\\n\\nFurther, the Trust accused Jagdishan of facilitating an illegal deposit of Rs 25 crore of the Trust’s funds into an HDFC Bank account without any board resolution, trustee approval or proper oversight, as per media reports. According to the Trust, these financial actions reflect a serious breach of governance norms and raise concerns about complicity at the bank.\\n\\nSource: https://www.moneycontrol.com/news/business/lilavati-medical-trust-versus-hdfc-bank-what-the-dispute-is-all-about-13258639.html\\n\\nContent: In another allegation, the Trust claimed that Rs 1.5 crore was disbursed to hospital staff under the pretext of CSR donations from HDFC Bank, but alleged it was a bribe to suppress information leaks and internal conflict over the wrongdoing, according to media reports.\\n\\nSource: https://www.moneycontrol.com/news/business/lilavati-medical-trust-versus-hdfc-bank-what-the-dispute-is-all-about-13258639.html\\n\\nContent: No relevant text provided addresses allegations made by the Lilavati Medical Trust.\\n\\nSource: https://www.moneycontrol.com/news/business/lilavati-medical-trust-versus-hdfc-bank-what-the-dispute-is-all-about-13258639.html\\n\\nContent: The provided text does not contain any information about allegations made by the Lilavati Medical Trust.\\n\\nSource: https://www.moneycontrol.com/news/business/lilavati-medical-trust-versus-hdfc-bank-what-the-dispute-is-all-about-13258639.html\\n=========\\nFINAL ANSWER:\"\n",
      "  ]\n",
      "}\n",
      "\u001b[36;1m\u001b[1;3m[llm/end]\u001b[0m \u001b[1m[chain:RetrievalQAWithSourcesChain > chain:MapReduceDocumentsChain > chain:LLMChain > llm:GeminiLLM] [2.24s] Exiting LLM run with output:\n",
      "\u001b[0m{\n",
      "  \"generations\": [\n",
      "    [\n",
      "      {\n",
      "        \"text\": \"The Lilavati Medical Trust accused HDFC Bank's CEO, Jagdishan, and eight others of fraud and misappropriation of the Trust's funds.  Specifically, they allege Jagdishan accepted a bribe of Rs 2.05 crore to help a group retain illegal control over the Trust, a payment documented in a seized handwritten cash diary.  They further allege Jagdishan facilitated an illegal deposit of Rs 25 crore into an HDFC Bank account without proper authorization.  Finally, they claim Rs 1.5 crore was disbursed to hospital staff under the guise of CSR donations, but was actually a bribe to suppress information about the alleged wrongdoing.\\n\\nSOURCES: https://www.moneycontrol.com/news/business/lilavati-medical-trust-versus-hdfc-bank-what-the-dispute-is-all-about-13258639.html\\n\",\n",
      "        \"generation_info\": null,\n",
      "        \"type\": \"Generation\"\n",
      "      }\n",
      "    ]\n",
      "  ],\n",
      "  \"llm_output\": null,\n",
      "  \"run\": null,\n",
      "  \"type\": \"LLMResult\"\n",
      "}\n",
      "\u001b[36;1m\u001b[1;3m[chain/end]\u001b[0m \u001b[1m[chain:RetrievalQAWithSourcesChain > chain:MapReduceDocumentsChain > chain:LLMChain] [2.24s] Exiting Chain run with output:\n",
      "\u001b[0m{\n",
      "  \"text\": \"The Lilavati Medical Trust accused HDFC Bank's CEO, Jagdishan, and eight others of fraud and misappropriation of the Trust's funds.  Specifically, they allege Jagdishan accepted a bribe of Rs 2.05 crore to help a group retain illegal control over the Trust, a payment documented in a seized handwritten cash diary.  They further allege Jagdishan facilitated an illegal deposit of Rs 25 crore into an HDFC Bank account without proper authorization.  Finally, they claim Rs 1.5 crore was disbursed to hospital staff under the guise of CSR donations, but was actually a bribe to suppress information about the alleged wrongdoing.\\n\\nSOURCES: https://www.moneycontrol.com/news/business/lilavati-medical-trust-versus-hdfc-bank-what-the-dispute-is-all-about-13258639.html\\n\"\n",
      "}\n",
      "\u001b[36;1m\u001b[1;3m[chain/end]\u001b[0m \u001b[1m[chain:RetrievalQAWithSourcesChain > chain:MapReduceDocumentsChain] [8.68s] Exiting Chain run with output:\n",
      "\u001b[0m{\n",
      "  \"output_text\": \"The Lilavati Medical Trust accused HDFC Bank's CEO, Jagdishan, and eight others of fraud and misappropriation of the Trust's funds.  Specifically, they allege Jagdishan accepted a bribe of Rs 2.05 crore to help a group retain illegal control over the Trust, a payment documented in a seized handwritten cash diary.  They further allege Jagdishan facilitated an illegal deposit of Rs 25 crore into an HDFC Bank account without proper authorization.  Finally, they claim Rs 1.5 crore was disbursed to hospital staff under the guise of CSR donations, but was actually a bribe to suppress information about the alleged wrongdoing.\\n\\nSOURCES: https://www.moneycontrol.com/news/business/lilavati-medical-trust-versus-hdfc-bank-what-the-dispute-is-all-about-13258639.html\\n\"\n",
      "}\n",
      "\u001b[36;1m\u001b[1;3m[chain/end]\u001b[0m \u001b[1m[chain:RetrievalQAWithSourcesChain] [8.83s] Exiting Chain run with output:\n",
      "\u001b[0m{\n",
      "  \"answer\": \"The Lilavati Medical Trust accused HDFC Bank's CEO, Jagdishan, and eight others of fraud and misappropriation of the Trust's funds.  Specifically, they allege Jagdishan accepted a bribe of Rs 2.05 crore to help a group retain illegal control over the Trust, a payment documented in a seized handwritten cash diary.  They further allege Jagdishan facilitated an illegal deposit of Rs 25 crore into an HDFC Bank account without proper authorization.  Finally, they claim Rs 1.5 crore was disbursed to hospital staff under the guise of CSR donations, but was actually a bribe to suppress information about the alleged wrongdoing.\\n\\n\",\n",
      "  \"sources\": \"https://www.moneycontrol.com/news/business/lilavati-medical-trust-versus-hdfc-bank-what-the-dispute-is-all-about-13258639.html\"\n",
      "}\n"
     ]
    },
    {
     "data": {
      "text/plain": [
       "{'answer': \"The Lilavati Medical Trust accused HDFC Bank's CEO, Jagdishan, and eight others of fraud and misappropriation of the Trust's funds.  Specifically, they allege Jagdishan accepted a bribe of Rs 2.05 crore to help a group retain illegal control over the Trust, a payment documented in a seized handwritten cash diary.  They further allege Jagdishan facilitated an illegal deposit of Rs 25 crore into an HDFC Bank account without proper authorization.  Finally, they claim Rs 1.5 crore was disbursed to hospital staff under the guise of CSR donations, but was actually a bribe to suppress information about the alleged wrongdoing.\\n\\n\",\n",
       " 'sources': 'https://www.moneycontrol.com/news/business/lilavati-medical-trust-versus-hdfc-bank-what-the-dispute-is-all-about-13258639.html'}"
      ]
     },
     "execution_count": 34,
     "metadata": {},
     "output_type": "execute_result"
    }
   ],
   "source": [
    "query = \"What allegations has the Lilavati Medical Trust made?\"\n",
    "\n",
    "langchain.debug=True\n",
    "\n",
    "chain({\"question\":query}, return_only_outputs=True)"
   ]
  },
  {
   "cell_type": "code",
   "execution_count": null,
   "id": "11a9d8c8-903b-46e1-8a77-e3b10f8a33ff",
   "metadata": {},
   "outputs": [],
   "source": []
  }
 ],
 "metadata": {
  "kernelspec": {
   "display_name": "Python 3 (ipykernel)",
   "language": "python",
   "name": "python3"
  },
  "language_info": {
   "codemirror_mode": {
    "name": "ipython",
    "version": 3
   },
   "file_extension": ".py",
   "mimetype": "text/x-python",
   "name": "python",
   "nbconvert_exporter": "python",
   "pygments_lexer": "ipython3",
   "version": "3.12.7"
  }
 },
 "nbformat": 4,
 "nbformat_minor": 5
}
