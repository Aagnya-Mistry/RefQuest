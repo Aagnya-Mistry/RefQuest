{
 "cells": [
  {
   "cell_type": "code",
   "execution_count": 22,
   "id": "e98d0b5c-5268-4fa4-ade9-9f70a147f889",
   "metadata": {},
   "outputs": [],
   "source": [
    "text = \"\"\"Suzume (Japanese: すずめの戸締まり, Hepburn: Suzume no Tojimari; lit. 'Suzume's Locking Up') is a 2022 Japanese animated coming-of-age fantasy adventure film written and directed by Makoto Shinkai. The film follows 17-year-old high school girl Suzume Iwato and young stranger Souta Munakata, who team up to prevent a series of disasters across Japan by sealing doors from the colossal, supernatural worm that causes earthquakes after being released.\n",
    "\n",
    "Produced by CoMix Wave Films, it features the voices of Nanoka Hara and Hokuto Matsumura, with character designs by Masayoshi Tanaka, animation direction by Kenichi Tsuchiya, art direction by Takumi Tanji, and its musical score was composed by Radwimps and Kazuma Jinnouchi, making it Shinkai's third collaboration with Tanaka and Radwimps, after Your Name (2016) and Weathering with You (2019). The film began production in early 2020, eventually being announced as completed by October 2022. Its themes were inspired by the 2011 Tōhoku earthquake and tsunami. A novel adaptation, also written by Shinkai, and a manga series illustrated by Denki Amashima both debuted prior to the film's release.\n",
    "\n",
    "Suzume first premiered in IMAX in Japan on November 7, 2022, followed by a theatrical release by Toho on November 11. It received largely positive reviews from critics, with praise directed towards the characters, animation, visuals, music, and emotional story. The film grossed over US$318 million worldwide, making it the fourth highest-grossing Japanese film of all time as well as the fourth highest grossing film of 2022 in Japan. Among its numerous accolades, the film was nominated for Best Animated Feature at the 81st Golden Globe Awards and received seven nominations at the 51st Annie Awards losing to both The Boy and the Heron (2023) and Spider-Man: Across the Spider-Verse (2023) respectively.\"\"\""
   ]
  },
  {
   "cell_type": "code",
   "execution_count": 10,
   "id": "aff72339-bc98-425d-a65e-0b88a3dd0993",
   "metadata": {},
   "outputs": [],
   "source": [
    "from langchain.text_splitter import CharacterTextSplitter"
   ]
  },
  {
   "cell_type": "code",
   "execution_count": 30,
   "id": "f5cbcfe1-0ab1-4f82-9657-396de9e55819",
   "metadata": {},
   "outputs": [
    {
     "name": "stderr",
     "output_type": "stream",
     "text": [
      "Created a chunk of size 251, which is longer than the specified 200\n",
      "Created a chunk of size 396, which is longer than the specified 200\n"
     ]
    },
    {
     "data": {
      "text/plain": [
       "\"Suzume (Japanese: すずめの戸締まり, Hepburn: Suzume no Tojimari; lit.\\u2009'Suzume's Locking Up') is a 2022 Japanese animated coming-of-age fantasy adventure film written and directed by Makoto Shinkai\""
      ]
     },
     "execution_count": 30,
     "metadata": {},
     "output_type": "execute_result"
    }
   ],
   "source": [
    "splitter = CharacterTextSplitter(\n",
    "    separator = '.',\n",
    "    chunk_size=200,\n",
    "    chunk_overlap=0\n",
    ")\n",
    "chunks = splitter.split_text(text)\n",
    "chunks[0]"
   ]
  },
  {
   "cell_type": "code",
   "execution_count": 32,
   "id": "c4f90bef-284c-49ef-bf0f-0608d1891b3a",
   "metadata": {},
   "outputs": [
    {
     "name": "stdout",
     "output_type": "stream",
     "text": [
      "188\n",
      "250\n",
      "394\n",
      "164\n",
      "134\n",
      "116\n",
      "142\n",
      "172\n",
      "270\n"
     ]
    }
   ],
   "source": [
    "for chunk in chunks:\n",
    "    print(len(chunk))"
   ]
  },
  {
   "cell_type": "code",
   "execution_count": 40,
   "id": "d06520fc-bdf2-47d8-b748-b58d31d5f897",
   "metadata": {},
   "outputs": [
    {
     "data": {
      "text/plain": [
       "[\"Suzume (Japanese: すずめの戸締まり, Hepburn: Suzume no Tojimari; lit.\\u2009'Suzume's Locking Up') is a 2022 Japanese animated coming-of-age fantasy adventure film written and directed by Makoto Shinkai\",\n",
       " '. The film follows 17-year-old high school girl Suzume Iwato and young stranger Souta Munakata, who team up to prevent a series of disasters across Japan by sealing doors from the colossal,',\n",
       " 'supernatural worm that causes earthquakes after being released',\n",
       " '.',\n",
       " 'Produced by CoMix Wave Films, it features the voices of Nanoka Hara and Hokuto Matsumura, with character designs by Masayoshi Tanaka, animation direction by Kenichi Tsuchiya, art direction by Takumi',\n",
       " \"Tanji, and its musical score was composed by Radwimps and Kazuma Jinnouchi, making it Shinkai's third collaboration with Tanaka and Radwimps, after Your Name (2016) and Weathering with You (2019)\",\n",
       " '. The film began production in early 2020, eventually being announced as completed by October 2022. Its themes were inspired by the 2011 Tōhoku earthquake and tsunami',\n",
       " \". A novel adaptation, also written by Shinkai, and a manga series illustrated by Denki Amashima both debuted prior to the film's release.\",\n",
       " 'Suzume first premiered in IMAX in Japan on November 7, 2022, followed by a theatrical release by Toho on November 11',\n",
       " '. It received largely positive reviews from critics, with praise directed towards the characters, animation, visuals, music, and emotional story',\n",
       " '. The film grossed over US$318 million worldwide, making it the fourth highest-grossing Japanese film of all time as well as the fourth highest grossing film of 2022 in Japan',\n",
       " '. Among its numerous accolades, the film was nominated for Best Animated Feature at the 81st Golden Globe Awards and received seven nominations at the 51st Annie Awards losing to both The Boy and the',\n",
       " 'Heron (2023) and Spider-Man: Across the Spider-Verse (2023) respectively',\n",
       " '.']"
      ]
     },
     "execution_count": 40,
     "metadata": {},
     "output_type": "execute_result"
    }
   ],
   "source": [
    "from langchain.text_splitter import RecursiveCharacterTextSplitter\n",
    "\n",
    "splitter = RecursiveCharacterTextSplitter(\n",
    "    separators = ['\\n','.',' '],\n",
    "    chunk_size=200,\n",
    "    chunk_overlap=0\n",
    ")\n",
    "chunks = splitter.split_text(text)\n",
    "chunks"
   ]
  },
  {
   "cell_type": "code",
   "execution_count": null,
   "id": "5cd671cc-a1a6-467c-9e8e-36b7a0e797c0",
   "metadata": {},
   "outputs": [],
   "source": []
  }
 ],
 "metadata": {
  "kernelspec": {
   "display_name": "Python 3 (ipykernel)",
   "language": "python",
   "name": "python3"
  },
  "language_info": {
   "codemirror_mode": {
    "name": "ipython",
    "version": 3
   },
   "file_extension": ".py",
   "mimetype": "text/x-python",
   "name": "python",
   "nbconvert_exporter": "python",
   "pygments_lexer": "ipython3",
   "version": "3.12.7"
  }
 },
 "nbformat": 4,
 "nbformat_minor": 5
}
