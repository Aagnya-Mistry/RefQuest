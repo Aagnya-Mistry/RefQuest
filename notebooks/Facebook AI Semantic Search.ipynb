{
 "cells": [
  {
   "cell_type": "code",
   "execution_count": 10,
   "id": "c79ba01e-0374-4f42-bc69-30cb2fd6ee39",
   "metadata": {
    "scrolled": true
   },
   "outputs": [
    {
     "name": "stdout",
     "output_type": "stream",
     "text": [
      "Requirement already satisfied: faiss-cpu in c:\\ajm\\sem 5\\projects\\equity research chatbot\\venv\\lib\\site-packages (1.11.0)\n",
      "Requirement already satisfied: numpy<3.0,>=1.25.0 in c:\\ajm\\sem 5\\projects\\equity research chatbot\\venv\\lib\\site-packages (from faiss-cpu) (2.2.6)\n",
      "Requirement already satisfied: packaging in c:\\ajm\\sem 5\\projects\\equity research chatbot\\venv\\lib\\site-packages (from faiss-cpu) (25.0)\n"
     ]
    },
    {
     "name": "stderr",
     "output_type": "stream",
     "text": [
      "WARNING: You are using pip version 21.2.3; however, version 25.1.1 is available.\n",
      "You should consider upgrading via the 'C:\\AJM\\Sem 5\\Projects\\Equity Research Chatbot\\venv\\Scripts\\python.exe -m pip install --upgrade pip' command.\n"
     ]
    },
    {
     "name": "stdout",
     "output_type": "stream",
     "text": [
      "Collecting sentence-transformers\n",
      "  Using cached sentence_transformers-5.0.0-py3-none-any.whl (470 kB)\n",
      "Requirement already satisfied: scipy in c:\\ajm\\sem 5\\projects\\equity research chatbot\\venv\\lib\\site-packages (from sentence-transformers) (1.15.3)\n",
      "Collecting scikit-learn\n",
      "  Using cached scikit_learn-1.7.0-cp310-cp310-win_amd64.whl (10.7 MB)\n",
      "Collecting Pillow\n",
      "  Using cached pillow-11.3.0-cp310-cp310-win_amd64.whl (7.0 MB)\n",
      "Requirement already satisfied: huggingface-hub>=0.20.0 in c:\\ajm\\sem 5\\projects\\equity research chatbot\\venv\\lib\\site-packages (from sentence-transformers) (0.33.4)\n",
      "Requirement already satisfied: typing_extensions>=4.5.0 in c:\\ajm\\sem 5\\projects\\equity research chatbot\\venv\\lib\\site-packages (from sentence-transformers) (4.14.1)\n",
      "Requirement already satisfied: transformers<5.0.0,>=4.41.0 in c:\\ajm\\sem 5\\projects\\equity research chatbot\\venv\\lib\\site-packages (from sentence-transformers) (4.53.2)\n",
      "Requirement already satisfied: tqdm in c:\\ajm\\sem 5\\projects\\equity research chatbot\\venv\\lib\\site-packages (from sentence-transformers) (4.67.1)\n",
      "Collecting torch>=1.11.0\n",
      "  Using cached torch-2.7.1-cp310-cp310-win_amd64.whl (216.1 MB)\n",
      "Requirement already satisfied: requests in c:\\ajm\\sem 5\\projects\\equity research chatbot\\venv\\lib\\site-packages (from huggingface-hub>=0.20.0->sentence-transformers) (2.32.4)\n",
      "Requirement already satisfied: pyyaml>=5.1 in c:\\ajm\\sem 5\\projects\\equity research chatbot\\venv\\lib\\site-packages (from huggingface-hub>=0.20.0->sentence-transformers) (6.0.2)\n",
      "Requirement already satisfied: packaging>=20.9 in c:\\ajm\\sem 5\\projects\\equity research chatbot\\venv\\lib\\site-packages (from huggingface-hub>=0.20.0->sentence-transformers) (25.0)\n",
      "Requirement already satisfied: filelock in c:\\ajm\\sem 5\\projects\\equity research chatbot\\venv\\lib\\site-packages (from huggingface-hub>=0.20.0->sentence-transformers) (3.18.0)\n",
      "Requirement already satisfied: fsspec>=2023.5.0 in c:\\ajm\\sem 5\\projects\\equity research chatbot\\venv\\lib\\site-packages (from huggingface-hub>=0.20.0->sentence-transformers) (2025.5.1)\n",
      "Requirement already satisfied: sympy>=1.13.3 in c:\\ajm\\sem 5\\projects\\equity research chatbot\\venv\\lib\\site-packages (from torch>=1.11.0->sentence-transformers) (1.14.0)\n",
      "Requirement already satisfied: networkx in c:\\ajm\\sem 5\\projects\\equity research chatbot\\venv\\lib\\site-packages (from torch>=1.11.0->sentence-transformers) (3.4.2)\n",
      "Requirement already satisfied: jinja2 in c:\\ajm\\sem 5\\projects\\equity research chatbot\\venv\\lib\\site-packages (from torch>=1.11.0->sentence-transformers) (3.1.6)\n",
      "Requirement already satisfied: mpmath<1.4,>=1.1.0 in c:\\ajm\\sem 5\\projects\\equity research chatbot\\venv\\lib\\site-packages (from sympy>=1.13.3->torch>=1.11.0->sentence-transformers) (1.3.0)\n",
      "Requirement already satisfied: colorama in c:\\ajm\\sem 5\\projects\\equity research chatbot\\venv\\lib\\site-packages (from tqdm->sentence-transformers) (0.4.6)\n",
      "Requirement already satisfied: numpy>=1.17 in c:\\ajm\\sem 5\\projects\\equity research chatbot\\venv\\lib\\site-packages (from transformers<5.0.0,>=4.41.0->sentence-transformers) (2.2.6)\n",
      "Requirement already satisfied: safetensors>=0.4.3 in c:\\ajm\\sem 5\\projects\\equity research chatbot\\venv\\lib\\site-packages (from transformers<5.0.0,>=4.41.0->sentence-transformers) (0.5.3)\n",
      "Requirement already satisfied: tokenizers<0.22,>=0.21 in c:\\ajm\\sem 5\\projects\\equity research chatbot\\venv\\lib\\site-packages (from transformers<5.0.0,>=4.41.0->sentence-transformers) (0.21.2)\n",
      "Requirement already satisfied: regex!=2019.12.17 in c:\\ajm\\sem 5\\projects\\equity research chatbot\\venv\\lib\\site-packages (from transformers<5.0.0,>=4.41.0->sentence-transformers) (2024.11.6)\n",
      "Requirement already satisfied: MarkupSafe>=2.0 in c:\\ajm\\sem 5\\projects\\equity research chatbot\\venv\\lib\\site-packages (from jinja2->torch>=1.11.0->sentence-transformers) (3.0.2)\n",
      "Requirement already satisfied: charset_normalizer<4,>=2 in c:\\ajm\\sem 5\\projects\\equity research chatbot\\venv\\lib\\site-packages (from requests->huggingface-hub>=0.20.0->sentence-transformers) (3.4.2)\n",
      "Requirement already satisfied: certifi>=2017.4.17 in c:\\ajm\\sem 5\\projects\\equity research chatbot\\venv\\lib\\site-packages (from requests->huggingface-hub>=0.20.0->sentence-transformers) (2025.7.9)\n",
      "Requirement already satisfied: idna<4,>=2.5 in c:\\ajm\\sem 5\\projects\\equity research chatbot\\venv\\lib\\site-packages (from requests->huggingface-hub>=0.20.0->sentence-transformers) (3.10)\n",
      "Requirement already satisfied: urllib3<3,>=1.21.1 in c:\\ajm\\sem 5\\projects\\equity research chatbot\\venv\\lib\\site-packages (from requests->huggingface-hub>=0.20.0->sentence-transformers) (2.5.0)\n",
      "Requirement already satisfied: threadpoolctl>=3.1.0 in c:\\ajm\\sem 5\\projects\\equity research chatbot\\venv\\lib\\site-packages (from scikit-learn->sentence-transformers) (3.6.0)\n",
      "Requirement already satisfied: joblib>=1.2.0 in c:\\ajm\\sem 5\\projects\\equity research chatbot\\venv\\lib\\site-packages (from scikit-learn->sentence-transformers) (1.5.1)\n",
      "Installing collected packages: torch, scikit-learn, Pillow, sentence-transformers\n",
      "Successfully installed Pillow-11.3.0 scikit-learn-1.7.0 sentence-transformers-5.0.0 torch-2.7.1\n"
     ]
    },
    {
     "name": "stderr",
     "output_type": "stream",
     "text": [
      "WARNING: You are using pip version 21.2.3; however, version 25.1.1 is available.\n",
      "You should consider upgrading via the 'C:\\AJM\\Sem 5\\Projects\\Equity Research Chatbot\\venv\\Scripts\\python.exe -m pip install --upgrade pip' command.\n"
     ]
    }
   ],
   "source": [
    "!pip install faiss-cpu\n",
    "!pip install sentence-transformers"
   ]
  },
  {
   "cell_type": "code",
   "execution_count": 2,
   "id": "7173cfb3-6e44-48af-8630-3d637fd9b88d",
   "metadata": {},
   "outputs": [],
   "source": [
    "import pandas as pd\n",
    "\n",
    "pd.set_option(\"display.max_colwidth\",100)"
   ]
  },
  {
   "cell_type": "code",
   "execution_count": 4,
   "id": "c7587977-ace3-4745-a220-4c876b4d8489",
   "metadata": {},
   "outputs": [
    {
     "data": {
      "text/plain": [
       "(8, 2)"
      ]
     },
     "execution_count": 4,
     "metadata": {},
     "output_type": "execute_result"
    }
   ],
   "source": [
    "df=pd.read_csv(\"sample_text.csv\")\n",
    "df.shape"
   ]
  },
  {
   "cell_type": "code",
   "execution_count": 6,
   "id": "71b58a13-3bcc-406a-8136-0cf4201a3c16",
   "metadata": {},
   "outputs": [
    {
     "data": {
      "text/html": [
       "<div>\n",
       "<style scoped>\n",
       "    .dataframe tbody tr th:only-of-type {\n",
       "        vertical-align: middle;\n",
       "    }\n",
       "\n",
       "    .dataframe tbody tr th {\n",
       "        vertical-align: top;\n",
       "    }\n",
       "\n",
       "    .dataframe thead th {\n",
       "        text-align: right;\n",
       "    }\n",
       "</style>\n",
       "<table border=\"1\" class=\"dataframe\">\n",
       "  <thead>\n",
       "    <tr style=\"text-align: right;\">\n",
       "      <th></th>\n",
       "      <th>text</th>\n",
       "      <th>category</th>\n",
       "    </tr>\n",
       "  </thead>\n",
       "  <tbody>\n",
       "    <tr>\n",
       "      <th>0</th>\n",
       "      <td>Meditation and yoga can improve mental health</td>\n",
       "      <td>Health</td>\n",
       "    </tr>\n",
       "    <tr>\n",
       "      <th>1</th>\n",
       "      <td>Fruits, whole grains and vegetables helps control blood pressure</td>\n",
       "      <td>Health</td>\n",
       "    </tr>\n",
       "    <tr>\n",
       "      <th>2</th>\n",
       "      <td>These are the latest fashion trends for this week</td>\n",
       "      <td>Fashion</td>\n",
       "    </tr>\n",
       "    <tr>\n",
       "      <th>3</th>\n",
       "      <td>Vibrant color jeans for male are becoming a trend</td>\n",
       "      <td>Fashion</td>\n",
       "    </tr>\n",
       "    <tr>\n",
       "      <th>4</th>\n",
       "      <td>The concert starts at 7 PM tonight</td>\n",
       "      <td>Event</td>\n",
       "    </tr>\n",
       "    <tr>\n",
       "      <th>5</th>\n",
       "      <td>Navaratri dandiya program at Expo center in Mumbai this october</td>\n",
       "      <td>Event</td>\n",
       "    </tr>\n",
       "    <tr>\n",
       "      <th>6</th>\n",
       "      <td>Exciting vacation destinations for your next trip</td>\n",
       "      <td>Travel</td>\n",
       "    </tr>\n",
       "    <tr>\n",
       "      <th>7</th>\n",
       "      <td>Maldives and Srilanka are gaining popularity in terms of low budget vacation places</td>\n",
       "      <td>Travel</td>\n",
       "    </tr>\n",
       "  </tbody>\n",
       "</table>\n",
       "</div>"
      ],
      "text/plain": [
       "                                                                                  text  \\\n",
       "0                                        Meditation and yoga can improve mental health   \n",
       "1                     Fruits, whole grains and vegetables helps control blood pressure   \n",
       "2                                    These are the latest fashion trends for this week   \n",
       "3                                    Vibrant color jeans for male are becoming a trend   \n",
       "4                                                   The concert starts at 7 PM tonight   \n",
       "5                      Navaratri dandiya program at Expo center in Mumbai this october   \n",
       "6                                    Exciting vacation destinations for your next trip   \n",
       "7  Maldives and Srilanka are gaining popularity in terms of low budget vacation places   \n",
       "\n",
       "  category  \n",
       "0   Health  \n",
       "1   Health  \n",
       "2  Fashion  \n",
       "3  Fashion  \n",
       "4    Event  \n",
       "5    Event  \n",
       "6   Travel  \n",
       "7   Travel  "
      ]
     },
     "execution_count": 6,
     "metadata": {},
     "output_type": "execute_result"
    }
   ],
   "source": [
    "df"
   ]
  },
  {
   "cell_type": "code",
   "execution_count": 20,
   "id": "d23993d3-aae8-4bf3-9922-76b8f0c0ed2e",
   "metadata": {
    "scrolled": true
   },
   "outputs": [
    {
     "name": "stdout",
     "output_type": "stream",
     "text": [
      "Defaulting to user installation because normal site-packages is not writeable\n",
      "Collecting sentence_transformers\n",
      "  Downloading sentence_transformers-5.0.0-py3-none-any.whl.metadata (16 kB)\n",
      "Collecting transformers<5.0.0,>=4.41.0 (from sentence_transformers)\n",
      "  Downloading transformers-4.53.2-py3-none-any.whl.metadata (40 kB)\n",
      "Requirement already satisfied: tqdm in c:\\programdata\\anaconda3\\lib\\site-packages (from sentence_transformers) (4.66.5)\n",
      "Collecting torch>=1.11.0 (from sentence_transformers)\n",
      "  Downloading torch-2.7.1-cp312-cp312-win_amd64.whl.metadata (28 kB)\n",
      "Requirement already satisfied: scikit-learn in c:\\programdata\\anaconda3\\lib\\site-packages (from sentence_transformers) (1.5.1)\n",
      "Requirement already satisfied: scipy in c:\\programdata\\anaconda3\\lib\\site-packages (from sentence_transformers) (1.13.1)\n",
      "Collecting huggingface-hub>=0.20.0 (from sentence_transformers)\n",
      "  Downloading huggingface_hub-0.33.4-py3-none-any.whl.metadata (14 kB)\n",
      "Requirement already satisfied: Pillow in c:\\programdata\\anaconda3\\lib\\site-packages (from sentence_transformers) (10.4.0)\n",
      "Requirement already satisfied: typing_extensions>=4.5.0 in c:\\users\\agnya mistry\\appdata\\roaming\\python\\python312\\site-packages (from sentence_transformers) (4.14.1)\n",
      "Requirement already satisfied: filelock in c:\\programdata\\anaconda3\\lib\\site-packages (from huggingface-hub>=0.20.0->sentence_transformers) (3.13.1)\n",
      "Requirement already satisfied: fsspec>=2023.5.0 in c:\\programdata\\anaconda3\\lib\\site-packages (from huggingface-hub>=0.20.0->sentence_transformers) (2024.6.1)\n",
      "Requirement already satisfied: packaging>=20.9 in c:\\programdata\\anaconda3\\lib\\site-packages (from huggingface-hub>=0.20.0->sentence_transformers) (24.1)\n",
      "Requirement already satisfied: pyyaml>=5.1 in c:\\programdata\\anaconda3\\lib\\site-packages (from huggingface-hub>=0.20.0->sentence_transformers) (6.0.1)\n",
      "Requirement already satisfied: requests in c:\\programdata\\anaconda3\\lib\\site-packages (from huggingface-hub>=0.20.0->sentence_transformers) (2.32.3)\n",
      "Collecting sympy>=1.13.3 (from torch>=1.11.0->sentence_transformers)\n",
      "  Downloading sympy-1.14.0-py3-none-any.whl.metadata (12 kB)\n",
      "Requirement already satisfied: networkx in c:\\programdata\\anaconda3\\lib\\site-packages (from torch>=1.11.0->sentence_transformers) (3.3)\n",
      "Requirement already satisfied: jinja2 in c:\\programdata\\anaconda3\\lib\\site-packages (from torch>=1.11.0->sentence_transformers) (3.1.4)\n",
      "Requirement already satisfied: setuptools in c:\\programdata\\anaconda3\\lib\\site-packages (from torch>=1.11.0->sentence_transformers) (75.1.0)\n",
      "Requirement already satisfied: colorama in c:\\programdata\\anaconda3\\lib\\site-packages (from tqdm->sentence_transformers) (0.4.6)\n",
      "Requirement already satisfied: numpy>=1.17 in c:\\programdata\\anaconda3\\lib\\site-packages (from transformers<5.0.0,>=4.41.0->sentence_transformers) (1.26.4)\n",
      "Requirement already satisfied: regex!=2019.12.17 in c:\\programdata\\anaconda3\\lib\\site-packages (from transformers<5.0.0,>=4.41.0->sentence_transformers) (2024.9.11)\n",
      "Collecting tokenizers<0.22,>=0.21 (from transformers<5.0.0,>=4.41.0->sentence_transformers)\n",
      "  Downloading tokenizers-0.21.2-cp39-abi3-win_amd64.whl.metadata (6.9 kB)\n",
      "Collecting safetensors>=0.4.3 (from transformers<5.0.0,>=4.41.0->sentence_transformers)\n",
      "  Using cached safetensors-0.5.3-cp38-abi3-win_amd64.whl.metadata (3.9 kB)\n",
      "Requirement already satisfied: joblib>=1.2.0 in c:\\programdata\\anaconda3\\lib\\site-packages (from scikit-learn->sentence_transformers) (1.4.2)\n",
      "Requirement already satisfied: threadpoolctl>=3.1.0 in c:\\programdata\\anaconda3\\lib\\site-packages (from scikit-learn->sentence_transformers) (3.5.0)\n",
      "Requirement already satisfied: mpmath<1.4,>=1.1.0 in c:\\programdata\\anaconda3\\lib\\site-packages (from sympy>=1.13.3->torch>=1.11.0->sentence_transformers) (1.3.0)\n",
      "Requirement already satisfied: MarkupSafe>=2.0 in c:\\programdata\\anaconda3\\lib\\site-packages (from jinja2->torch>=1.11.0->sentence_transformers) (2.1.3)\n",
      "Requirement already satisfied: charset-normalizer<4,>=2 in c:\\programdata\\anaconda3\\lib\\site-packages (from requests->huggingface-hub>=0.20.0->sentence_transformers) (3.3.2)\n",
      "Requirement already satisfied: idna<4,>=2.5 in c:\\programdata\\anaconda3\\lib\\site-packages (from requests->huggingface-hub>=0.20.0->sentence_transformers) (3.7)\n",
      "Requirement already satisfied: urllib3<3,>=1.21.1 in c:\\programdata\\anaconda3\\lib\\site-packages (from requests->huggingface-hub>=0.20.0->sentence_transformers) (2.2.3)\n",
      "Requirement already satisfied: certifi>=2017.4.17 in c:\\programdata\\anaconda3\\lib\\site-packages (from requests->huggingface-hub>=0.20.0->sentence_transformers) (2024.12.14)\n",
      "Downloading sentence_transformers-5.0.0-py3-none-any.whl (470 kB)\n",
      "Downloading huggingface_hub-0.33.4-py3-none-any.whl (515 kB)\n",
      "Downloading torch-2.7.1-cp312-cp312-win_amd64.whl (216.1 MB)\n",
      "   ---------------------------------------- 0.0/216.1 MB ? eta -:--:--\n",
      "   ---------------------------------------- 1.6/216.1 MB 7.6 MB/s eta 0:00:29\n",
      "    --------------------------------------- 3.1/216.1 MB 7.4 MB/s eta 0:00:29\n",
      "    --------------------------------------- 4.7/216.1 MB 7.7 MB/s eta 0:00:28\n",
      "   - -------------------------------------- 6.3/216.1 MB 7.6 MB/s eta 0:00:28\n",
      "   - -------------------------------------- 7.9/216.1 MB 7.5 MB/s eta 0:00:28\n",
      "   - -------------------------------------- 9.4/216.1 MB 7.6 MB/s eta 0:00:28\n",
      "   -- ------------------------------------- 11.5/216.1 MB 7.8 MB/s eta 0:00:27\n",
      "   -- ------------------------------------- 12.8/216.1 MB 7.7 MB/s eta 0:00:27\n",
      "   -- ------------------------------------- 14.4/216.1 MB 7.8 MB/s eta 0:00:26\n",
      "   --- ------------------------------------ 16.3/216.1 MB 7.8 MB/s eta 0:00:26\n",
      "   --- ------------------------------------ 18.4/216.1 MB 8.0 MB/s eta 0:00:25\n",
      "   --- ------------------------------------ 20.2/216.1 MB 8.0 MB/s eta 0:00:25\n",
      "   ---- ----------------------------------- 22.3/216.1 MB 8.2 MB/s eta 0:00:24\n",
      "   ---- ----------------------------------- 24.6/216.1 MB 8.4 MB/s eta 0:00:23\n",
      "   ---- ----------------------------------- 26.2/216.1 MB 8.4 MB/s eta 0:00:23\n",
      "   ----- ---------------------------------- 28.3/216.1 MB 8.4 MB/s eta 0:00:23\n",
      "   ----- ---------------------------------- 29.9/216.1 MB 8.5 MB/s eta 0:00:22\n",
      "   ----- ---------------------------------- 32.0/216.1 MB 8.5 MB/s eta 0:00:22\n",
      "   ------ --------------------------------- 33.8/216.1 MB 8.5 MB/s eta 0:00:22\n",
      "   ------ --------------------------------- 35.7/216.1 MB 8.5 MB/s eta 0:00:22\n",
      "   ------ --------------------------------- 36.7/216.1 MB 8.4 MB/s eta 0:00:22\n",
      "   ------- -------------------------------- 38.0/216.1 MB 8.2 MB/s eta 0:00:22\n",
      "   ------- -------------------------------- 39.3/216.1 MB 8.1 MB/s eta 0:00:22\n",
      "   ------- -------------------------------- 40.6/216.1 MB 8.1 MB/s eta 0:00:22\n",
      "   ------- -------------------------------- 41.7/216.1 MB 8.0 MB/s eta 0:00:22\n",
      "   -------- ------------------------------- 43.3/216.1 MB 7.9 MB/s eta 0:00:22\n",
      "   -------- ------------------------------- 44.8/216.1 MB 7.9 MB/s eta 0:00:22\n",
      "   -------- ------------------------------- 46.4/216.1 MB 7.9 MB/s eta 0:00:22\n",
      "   -------- ------------------------------- 47.7/216.1 MB 7.8 MB/s eta 0:00:22\n",
      "   --------- ------------------------------ 49.8/216.1 MB 7.9 MB/s eta 0:00:22\n",
      "   --------- ------------------------------ 51.6/216.1 MB 7.9 MB/s eta 0:00:21\n",
      "   --------- ------------------------------ 53.5/216.1 MB 8.0 MB/s eta 0:00:21\n",
      "   ---------- ----------------------------- 55.3/216.1 MB 8.0 MB/s eta 0:00:21\n",
      "   ---------- ----------------------------- 57.4/216.1 MB 8.1 MB/s eta 0:00:20\n",
      "   ---------- ----------------------------- 58.7/216.1 MB 8.0 MB/s eta 0:00:20\n",
      "   ----------- ---------------------------- 60.0/216.1 MB 8.0 MB/s eta 0:00:20\n",
      "   ----------- ---------------------------- 61.1/216.1 MB 7.9 MB/s eta 0:00:20\n",
      "   ----------- ---------------------------- 62.1/216.1 MB 7.8 MB/s eta 0:00:20\n",
      "   ----------- ---------------------------- 63.2/216.1 MB 7.7 MB/s eta 0:00:20\n",
      "   ----------- ---------------------------- 64.5/216.1 MB 7.7 MB/s eta 0:00:20\n",
      "   ------------ --------------------------- 65.3/216.1 MB 7.6 MB/s eta 0:00:20\n",
      "   ------------ --------------------------- 66.8/216.1 MB 7.6 MB/s eta 0:00:20\n",
      "   ------------ --------------------------- 68.7/216.1 MB 7.6 MB/s eta 0:00:20\n",
      "   ------------- -------------------------- 70.8/216.1 MB 7.7 MB/s eta 0:00:19\n",
      "   ------------- -------------------------- 72.4/216.1 MB 7.7 MB/s eta 0:00:19\n",
      "   ------------- -------------------------- 74.2/216.1 MB 7.7 MB/s eta 0:00:19\n",
      "   ------------- -------------------------- 75.5/216.1 MB 7.7 MB/s eta 0:00:19\n",
      "   -------------- ------------------------- 76.0/216.1 MB 7.6 MB/s eta 0:00:19\n",
      "   -------------- ------------------------- 76.8/216.1 MB 7.5 MB/s eta 0:00:19\n",
      "   -------------- ------------------------- 77.9/216.1 MB 7.4 MB/s eta 0:00:19\n",
      "   -------------- ------------------------- 79.2/216.1 MB 7.4 MB/s eta 0:00:19\n",
      "   -------------- ------------------------- 80.2/216.1 MB 7.4 MB/s eta 0:00:19\n",
      "   --------------- ------------------------ 81.3/216.1 MB 7.3 MB/s eta 0:00:19\n",
      "   --------------- ------------------------ 82.8/216.1 MB 7.3 MB/s eta 0:00:19\n",
      "   --------------- ------------------------ 83.9/216.1 MB 7.3 MB/s eta 0:00:19\n",
      "   --------------- ------------------------ 85.2/216.1 MB 7.2 MB/s eta 0:00:19\n",
      "   --------------- ------------------------ 86.2/216.1 MB 7.2 MB/s eta 0:00:19\n",
      "   ---------------- ----------------------- 87.3/216.1 MB 7.2 MB/s eta 0:00:18\n",
      "   ---------------- ----------------------- 88.6/216.1 MB 7.1 MB/s eta 0:00:18\n",
      "   ---------------- ----------------------- 90.2/216.1 MB 7.1 MB/s eta 0:00:18\n",
      "   ---------------- ----------------------- 91.5/216.1 MB 7.1 MB/s eta 0:00:18\n",
      "   ----------------- ---------------------- 92.5/216.1 MB 7.1 MB/s eta 0:00:18\n",
      "   ----------------- ---------------------- 93.8/216.1 MB 7.1 MB/s eta 0:00:18\n",
      "   ----------------- ---------------------- 95.2/216.1 MB 7.0 MB/s eta 0:00:18\n",
      "   ----------------- ---------------------- 96.2/216.1 MB 7.0 MB/s eta 0:00:18\n",
      "   ------------------ --------------------- 97.3/216.1 MB 7.0 MB/s eta 0:00:17\n",
      "   ------------------ --------------------- 98.3/216.1 MB 7.0 MB/s eta 0:00:17\n",
      "   ------------------ --------------------- 99.4/216.1 MB 6.9 MB/s eta 0:00:17\n",
      "   ------------------ --------------------- 100.1/216.1 MB 6.9 MB/s eta 0:00:17\n",
      "   ------------------ --------------------- 101.2/216.1 MB 6.9 MB/s eta 0:00:17\n",
      "   ------------------- -------------------- 102.8/216.1 MB 6.8 MB/s eta 0:00:17\n",
      "   ------------------- -------------------- 104.3/216.1 MB 6.9 MB/s eta 0:00:17\n",
      "   ------------------- -------------------- 106.2/216.1 MB 6.9 MB/s eta 0:00:16\n",
      "   -------------------- ------------------- 108.5/216.1 MB 6.9 MB/s eta 0:00:16\n",
      "   -------------------- ------------------- 110.4/216.1 MB 7.0 MB/s eta 0:00:16\n",
      "   -------------------- ------------------- 111.7/216.1 MB 7.0 MB/s eta 0:00:15\n",
      "   --------------------- ------------------ 113.8/216.1 MB 7.0 MB/s eta 0:00:15\n",
      "   --------------------- ------------------ 115.6/216.1 MB 7.0 MB/s eta 0:00:15\n",
      "   --------------------- ------------------ 117.2/216.1 MB 7.0 MB/s eta 0:00:15\n",
      "   --------------------- ------------------ 118.8/216.1 MB 7.0 MB/s eta 0:00:14\n",
      "   ---------------------- ----------------- 121.1/216.1 MB 7.1 MB/s eta 0:00:14\n",
      "   ---------------------- ----------------- 122.4/216.1 MB 7.1 MB/s eta 0:00:14\n",
      "   ----------------------- ---------------- 124.3/216.1 MB 7.1 MB/s eta 0:00:13\n",
      "   ----------------------- ---------------- 125.6/216.1 MB 7.1 MB/s eta 0:00:13\n",
      "   ----------------------- ---------------- 127.1/216.1 MB 7.1 MB/s eta 0:00:13\n",
      "   ----------------------- ---------------- 128.2/216.1 MB 7.1 MB/s eta 0:00:13\n",
      "   ------------------------ --------------- 129.8/216.1 MB 7.1 MB/s eta 0:00:13\n",
      "   ------------------------ --------------- 131.3/216.1 MB 7.1 MB/s eta 0:00:12\n",
      "   ------------------------ --------------- 133.2/216.1 MB 7.1 MB/s eta 0:00:12\n",
      "   ------------------------ --------------- 134.7/216.1 MB 7.1 MB/s eta 0:00:12\n",
      "   ------------------------- -------------- 136.1/216.1 MB 7.1 MB/s eta 0:00:12\n",
      "   ------------------------- -------------- 137.6/216.1 MB 7.1 MB/s eta 0:00:12\n",
      "   ------------------------- -------------- 139.5/216.1 MB 7.1 MB/s eta 0:00:11\n",
      "   -------------------------- ------------- 141.3/216.1 MB 7.1 MB/s eta 0:00:11\n",
      "   -------------------------- ------------- 143.9/216.1 MB 7.2 MB/s eta 0:00:11\n",
      "   -------------------------- ------------- 145.8/216.1 MB 7.2 MB/s eta 0:00:10\n",
      "   --------------------------- ------------ 147.6/216.1 MB 7.2 MB/s eta 0:00:10\n",
      "   --------------------------- ------------ 149.2/216.1 MB 7.2 MB/s eta 0:00:10\n",
      "   ---------------------------- ----------- 151.3/216.1 MB 7.2 MB/s eta 0:00:09\n",
      "   ---------------------------- ----------- 153.1/216.1 MB 7.3 MB/s eta 0:00:09\n",
      "   ---------------------------- ----------- 154.7/216.1 MB 7.3 MB/s eta 0:00:09\n",
      "   ---------------------------- ----------- 156.5/216.1 MB 7.3 MB/s eta 0:00:09\n",
      "   ----------------------------- ---------- 158.3/216.1 MB 7.3 MB/s eta 0:00:08\n",
      "   ----------------------------- ---------- 160.4/216.1 MB 7.3 MB/s eta 0:00:08\n",
      "   ------------------------------ --------- 162.3/216.1 MB 7.3 MB/s eta 0:00:08\n",
      "   ------------------------------ --------- 163.8/216.1 MB 7.3 MB/s eta 0:00:08\n",
      "   ------------------------------ --------- 165.7/216.1 MB 7.3 MB/s eta 0:00:07\n",
      "   ------------------------------- -------- 167.5/216.1 MB 7.3 MB/s eta 0:00:07\n",
      "   ------------------------------- -------- 169.3/216.1 MB 7.4 MB/s eta 0:00:07\n",
      "   ------------------------------- -------- 171.2/216.1 MB 7.4 MB/s eta 0:00:07\n",
      "   -------------------------------- ------- 173.3/216.1 MB 7.4 MB/s eta 0:00:06\n",
      "   -------------------------------- ------- 174.6/216.1 MB 7.4 MB/s eta 0:00:06\n",
      "   -------------------------------- ------- 176.7/216.1 MB 7.4 MB/s eta 0:00:06\n",
      "   --------------------------------- ------ 179.0/216.1 MB 7.4 MB/s eta 0:00:05\n",
      "   --------------------------------- ------ 180.9/216.1 MB 7.4 MB/s eta 0:00:05\n",
      "   --------------------------------- ------ 183.2/216.1 MB 7.5 MB/s eta 0:00:05\n",
      "   ---------------------------------- ----- 185.3/216.1 MB 7.5 MB/s eta 0:00:05\n",
      "   ---------------------------------- ----- 187.7/216.1 MB 7.5 MB/s eta 0:00:04\n",
      "   ----------------------------------- ---- 190.1/216.1 MB 7.5 MB/s eta 0:00:04\n",
      "   ----------------------------------- ---- 191.6/216.1 MB 7.6 MB/s eta 0:00:04\n",
      "   ----------------------------------- ---- 192.7/216.1 MB 7.6 MB/s eta 0:00:04\n",
      "   ------------------------------------ --- 195.0/216.1 MB 7.6 MB/s eta 0:00:03\n",
      "   ------------------------------------ --- 196.9/216.1 MB 7.6 MB/s eta 0:00:03\n",
      "   ------------------------------------ --- 198.2/216.1 MB 7.6 MB/s eta 0:00:03\n",
      "   ------------------------------------ --- 199.8/216.1 MB 7.6 MB/s eta 0:00:03\n",
      "   ------------------------------------- -- 201.3/216.1 MB 7.6 MB/s eta 0:00:02\n",
      "   ------------------------------------- -- 202.9/216.1 MB 7.6 MB/s eta 0:00:02\n",
      "   ------------------------------------- -- 204.7/216.1 MB 7.6 MB/s eta 0:00:02\n",
      "   -------------------------------------- - 206.6/216.1 MB 7.6 MB/s eta 0:00:02\n",
      "   -------------------------------------- - 208.9/216.1 MB 7.6 MB/s eta 0:00:01\n",
      "   ---------------------------------------  210.8/216.1 MB 7.6 MB/s eta 0:00:01\n",
      "   ---------------------------------------  212.9/216.1 MB 7.6 MB/s eta 0:00:01\n",
      "   ---------------------------------------  215.2/216.1 MB 7.6 MB/s eta 0:00:01\n",
      "   ---------------------------------------  216.0/216.1 MB 7.6 MB/s eta 0:00:01\n",
      "   ---------------------------------------  216.0/216.1 MB 7.6 MB/s eta 0:00:01\n",
      "   ---------------------------------------  216.0/216.1 MB 7.6 MB/s eta 0:00:01\n",
      "   ---------------------------------------  216.0/216.1 MB 7.6 MB/s eta 0:00:01\n",
      "   ---------------------------------------  216.0/216.1 MB 7.6 MB/s eta 0:00:01\n",
      "   ---------------------------------------- 216.1/216.1 MB 7.4 MB/s eta 0:00:00\n",
      "Downloading transformers-4.53.2-py3-none-any.whl (10.8 MB)\n",
      "   ---------------------------------------- 0.0/10.8 MB ? eta -:--:--\n",
      "   ---- ----------------------------------- 1.3/10.8 MB 6.7 MB/s eta 0:00:02\n",
      "   ---------- ----------------------------- 2.9/10.8 MB 7.6 MB/s eta 0:00:02\n",
      "   ------------------ --------------------- 5.0/10.8 MB 8.4 MB/s eta 0:00:01\n",
      "   ------------------------ --------------- 6.6/10.8 MB 7.9 MB/s eta 0:00:01\n",
      "   ------------------------------ --------- 8.4/10.8 MB 8.1 MB/s eta 0:00:01\n",
      "   ------------------------------------- -- 10.2/10.8 MB 8.2 MB/s eta 0:00:01\n",
      "   ---------------------------------------  10.7/10.8 MB 8.2 MB/s eta 0:00:01\n",
      "   ---------------------------------------  10.7/10.8 MB 8.2 MB/s eta 0:00:01\n",
      "   ---------------------------------------- 10.8/10.8 MB 6.3 MB/s eta 0:00:00\n",
      "Using cached safetensors-0.5.3-cp38-abi3-win_amd64.whl (308 kB)\n",
      "Downloading sympy-1.14.0-py3-none-any.whl (6.3 MB)\n",
      "   ---------------------------------------- 0.0/6.3 MB ? eta -:--:--\n",
      "   ----------- ---------------------------- 1.8/6.3 MB 9.1 MB/s eta 0:00:01\n",
      "   ----------------------- ---------------- 3.7/6.3 MB 8.7 MB/s eta 0:00:01\n",
      "   --------------------------------- ------ 5.2/6.3 MB 8.6 MB/s eta 0:00:01\n",
      "   ---------------------------------------  6.3/6.3 MB 7.7 MB/s eta 0:00:01\n",
      "   ---------------------------------------- 6.3/6.3 MB 5.9 MB/s eta 0:00:00\n",
      "Downloading tokenizers-0.21.2-cp39-abi3-win_amd64.whl (2.5 MB)\n",
      "   ---------------------------------------- 0.0/2.5 MB ? eta -:--:--\n",
      "   ----------------------------- ---------- 1.8/2.5 MB 9.1 MB/s eta 0:00:01\n",
      "   ---------------------------------------- 2.5/2.5 MB 5.8 MB/s eta 0:00:00\n",
      "Installing collected packages: sympy, safetensors, torch, huggingface-hub, tokenizers, transformers, sentence_transformers\n",
      "Successfully installed huggingface-hub-0.33.4 safetensors-0.5.3 sentence_transformers-5.0.0 sympy-1.14.0 tokenizers-0.21.2 torch-2.7.1 transformers-4.53.2\n",
      "Note: you may need to restart the kernel to use updated packages.\n"
     ]
    },
    {
     "name": "stderr",
     "output_type": "stream",
     "text": [
      "  WARNING: The script isympy.exe is installed in 'C:\\Users\\Agnya Mistry\\AppData\\Roaming\\Python\\Python312\\Scripts' which is not on PATH.\n",
      "  Consider adding this directory to PATH or, if you prefer to suppress this warning, use --no-warn-script-location.\n",
      "  WARNING: The scripts torchfrtrace.exe and torchrun.exe are installed in 'C:\\Users\\Agnya Mistry\\AppData\\Roaming\\Python\\Python312\\Scripts' which is not on PATH.\n",
      "  Consider adding this directory to PATH or, if you prefer to suppress this warning, use --no-warn-script-location.\n",
      "  WARNING: The scripts huggingface-cli.exe and tiny-agents.exe are installed in 'C:\\Users\\Agnya Mistry\\AppData\\Roaming\\Python\\Python312\\Scripts' which is not on PATH.\n",
      "  Consider adding this directory to PATH or, if you prefer to suppress this warning, use --no-warn-script-location.\n",
      "  WARNING: The scripts transformers-cli.exe and transformers.exe are installed in 'C:\\Users\\Agnya Mistry\\AppData\\Roaming\\Python\\Python312\\Scripts' which is not on PATH.\n",
      "  Consider adding this directory to PATH or, if you prefer to suppress this warning, use --no-warn-script-location.\n"
     ]
    }
   ],
   "source": [
    "pip install sentence_transformers"
   ]
  },
  {
   "cell_type": "code",
   "execution_count": 26,
   "id": "04a70f1e-b46a-4372-916e-c382deef1938",
   "metadata": {
    "scrolled": true
   },
   "outputs": [
    {
     "name": "stdout",
     "output_type": "stream",
     "text": [
      "Defaulting to user installation because normal site-packages is not writeable\n",
      "Requirement already satisfied: huggingface_hub[hf_xet] in c:\\users\\agnya mistry\\appdata\\roaming\\python\\python312\\site-packages (0.33.4)\n",
      "Requirement already satisfied: filelock in c:\\programdata\\anaconda3\\lib\\site-packages (from huggingface_hub[hf_xet]) (3.13.1)\n",
      "Requirement already satisfied: fsspec>=2023.5.0 in c:\\programdata\\anaconda3\\lib\\site-packages (from huggingface_hub[hf_xet]) (2024.6.1)\n",
      "Requirement already satisfied: packaging>=20.9 in c:\\programdata\\anaconda3\\lib\\site-packages (from huggingface_hub[hf_xet]) (24.1)\n",
      "Requirement already satisfied: pyyaml>=5.1 in c:\\programdata\\anaconda3\\lib\\site-packages (from huggingface_hub[hf_xet]) (6.0.1)\n",
      "Requirement already satisfied: requests in c:\\programdata\\anaconda3\\lib\\site-packages (from huggingface_hub[hf_xet]) (2.32.3)\n",
      "Requirement already satisfied: tqdm>=4.42.1 in c:\\programdata\\anaconda3\\lib\\site-packages (from huggingface_hub[hf_xet]) (4.66.5)\n",
      "Requirement already satisfied: typing-extensions>=3.7.4.3 in c:\\users\\agnya mistry\\appdata\\roaming\\python\\python312\\site-packages (from huggingface_hub[hf_xet]) (4.14.1)\n",
      "Collecting hf-xet<2.0.0,>=1.1.2 (from huggingface_hub[hf_xet])\n",
      "  Downloading hf_xet-1.1.5-cp37-abi3-win_amd64.whl.metadata (883 bytes)\n",
      "Requirement already satisfied: colorama in c:\\programdata\\anaconda3\\lib\\site-packages (from tqdm>=4.42.1->huggingface_hub[hf_xet]) (0.4.6)\n",
      "Requirement already satisfied: charset-normalizer<4,>=2 in c:\\programdata\\anaconda3\\lib\\site-packages (from requests->huggingface_hub[hf_xet]) (3.3.2)\n",
      "Requirement already satisfied: idna<4,>=2.5 in c:\\programdata\\anaconda3\\lib\\site-packages (from requests->huggingface_hub[hf_xet]) (3.7)\n",
      "Requirement already satisfied: urllib3<3,>=1.21.1 in c:\\programdata\\anaconda3\\lib\\site-packages (from requests->huggingface_hub[hf_xet]) (2.2.3)\n",
      "Requirement already satisfied: certifi>=2017.4.17 in c:\\programdata\\anaconda3\\lib\\site-packages (from requests->huggingface_hub[hf_xet]) (2024.12.14)\n",
      "Downloading hf_xet-1.1.5-cp37-abi3-win_amd64.whl (2.7 MB)\n",
      "   ---------------------------------------- 0.0/2.7 MB ? eta -:--:--\n",
      "   ----------- ---------------------------- 0.8/2.7 MB 4.2 MB/s eta 0:00:01\n",
      "   ------------------------------ --------- 2.1/2.7 MB 5.9 MB/s eta 0:00:01\n",
      "   ---------------------------------------- 2.7/2.7 MB 5.9 MB/s eta 0:00:00\n",
      "Installing collected packages: hf-xet\n",
      "Successfully installed hf-xet-1.1.5\n",
      "Note: you may need to restart the kernel to use updated packages.\n"
     ]
    }
   ],
   "source": [
    "pip install huggingface_hub[hf_xet]"
   ]
  },
  {
   "cell_type": "code",
   "execution_count": 22,
   "id": "61973f8e-bc64-49f0-845f-db3eb1a6a2e3",
   "metadata": {},
   "outputs": [],
   "source": [
    "from sentence_transformers import SentenceTransformer"
   ]
  },
  {
   "cell_type": "code",
   "execution_count": 32,
   "id": "271f774c-708d-4e94-9047-f7fdbbff6c81",
   "metadata": {},
   "outputs": [
    {
     "name": "stdout",
     "output_type": "stream",
     "text": [
      "<class 'numpy.ndarray'> (8, 768)\n"
     ]
    }
   ],
   "source": [
    "encoder = SentenceTransformer(\"all-mpnet-base-v2\")\n",
    "vectors = encoder.encode(df.text)\n",
    "print(type(vectors), vectors.shape)"
   ]
  },
  {
   "cell_type": "code",
   "execution_count": 34,
   "id": "47467727-46f2-473e-a213-39ea6a686a8e",
   "metadata": {
    "scrolled": true
   },
   "outputs": [
    {
     "name": "stdout",
     "output_type": "stream",
     "text": [
      "[-2.47395458e-03  3.62671986e-02 -5.29045872e-02 -2.17348468e-02\n",
      "  1.41723482e-02 -1.01601670e-03  2.23637167e-02  3.65196429e-02\n",
      "  3.80901322e-02  5.22008399e-03 -3.00865509e-02  2.05446221e-03\n",
      "  1.08503122e-02 -8.49087834e-02 -5.57267573e-03 -6.06597848e-02\n",
      "  2.32009729e-03 -1.51408855e-02  1.20670693e-02  1.98905468e-02\n",
      " -1.27936434e-02 -2.72811279e-02 -3.31878439e-02  3.40652163e-03\n",
      "  8.41168873e-03 -1.94854867e-02  4.88132425e-02  2.24118419e-02\n",
      "  4.53466848e-02 -5.90892211e-02 -9.13182274e-02 -1.22330664e-03\n",
      " -4.05045748e-02  8.67187232e-03  1.26565260e-06 -1.92451179e-02\n",
      " -3.20659205e-02 -4.08172347e-02  8.79177377e-02 -1.52632445e-02\n",
      "  1.09908991e-02 -4.47977148e-02 -4.74823825e-03  3.52632180e-02\n",
      "  1.31070651e-02  1.09943897e-02 -3.45762656e-03  9.12348703e-02\n",
      "  5.68809845e-02  4.82893884e-02 -4.51438548e-03  3.58451270e-02\n",
      " -2.44210400e-02 -4.28084880e-02 -1.66666824e-02  1.65211428e-02\n",
      "  1.14227785e-02  6.19199350e-02 -2.31557079e-02 -3.98106836e-02\n",
      " -1.20360143e-02 -3.24893445e-02 -4.68717404e-02  5.74309081e-02\n",
      " -2.09294893e-02  8.66612140e-03  2.93694846e-02  1.39485113e-03\n",
      "  2.89673861e-02  1.57140791e-02 -4.39891545e-03  3.33096497e-02\n",
      "  3.25464234e-02 -5.67623973e-03  9.64477379e-03 -1.09199695e-02\n",
      " -9.13844723e-03 -2.17638761e-02 -1.64260634e-03  2.95123309e-02\n",
      "  7.90998265e-02  1.52952317e-02 -3.61723155e-02 -1.28437802e-02\n",
      "  7.60599598e-02 -2.54637394e-02 -4.98354202e-03 -9.66973230e-03\n",
      "  1.23360483e-02 -1.11458963e-02 -1.25426333e-02 -4.38241325e-02\n",
      " -1.63969712e-03  3.94687336e-03  5.90668060e-04  1.25497086e-02\n",
      " -1.35576222e-02 -1.38590068e-01 -1.79839563e-02  8.95770639e-02\n",
      "  6.93043768e-02  5.44512123e-02 -1.73114128e-02 -6.94496483e-02\n",
      "  9.26830899e-03  2.52373628e-02  1.27631528e-02 -4.95675113e-03\n",
      " -1.05310855e-02  6.89907968e-02 -4.03775973e-03  1.46954106e-02\n",
      " -2.53698193e-02 -3.24942805e-02 -4.91569983e-03  4.10971418e-03\n",
      " -6.16341420e-02 -9.87223163e-03 -4.40229326e-02 -2.49388237e-02\n",
      " -2.57240050e-02 -6.45754188e-02 -2.28087809e-02  8.39945278e-04\n",
      "  5.17682508e-02  7.28095844e-02 -2.78259497e-02 -2.70897038e-02\n",
      "  2.56125238e-02 -2.85153128e-02  2.48930994e-02  1.52170919e-02\n",
      " -1.82603002e-02  4.57471190e-03  4.00790479e-03 -4.10634466e-02\n",
      "  5.58519922e-02 -4.68989136e-03 -5.42436913e-02  4.36730171e-03\n",
      "  1.01202615e-02 -9.13176313e-03  8.82923752e-02 -2.30878349e-02\n",
      " -2.15984620e-02 -4.62851040e-02  2.45606806e-02 -9.63653810e-03\n",
      "  2.04568878e-02 -3.36907171e-02 -2.33146362e-02 -3.12578959e-06\n",
      " -4.21610400e-02 -2.33145356e-02  3.98631170e-02  5.20908870e-02\n",
      "  8.87798294e-02 -7.32728804e-04  3.44772004e-02 -2.87740044e-02\n",
      "  4.24330682e-02 -1.99290812e-02  2.78220046e-02 -3.48257758e-02\n",
      "  5.40323406e-02 -4.23691608e-02  8.31100866e-02 -2.88301464e-02\n",
      " -6.22712560e-02  2.47737169e-02 -6.59210831e-02 -1.81272142e-02\n",
      " -1.48120783e-02  1.07428871e-01 -4.06896230e-03  6.28882274e-02\n",
      " -1.45184258e-02  2.66864076e-02 -8.66079330e-02 -1.52695943e-02\n",
      " -3.13378009e-03 -2.73710489e-03 -1.79909263e-02  1.99597199e-02\n",
      "  8.21225941e-02  6.80241315e-03 -7.02435058e-03  2.94618849e-02\n",
      " -1.36624752e-02 -4.27074246e-02 -4.59483676e-02 -2.15018317e-02\n",
      "  1.33594517e-02 -4.04235013e-02 -3.29467538e-03  1.99418552e-02\n",
      "  4.95412163e-02  5.59021384e-02  1.10123502e-02 -1.27654045e-03\n",
      " -3.47214006e-02  5.04799187e-02 -2.76383404e-02 -6.08149096e-02\n",
      " -4.09358554e-02 -1.70138367e-02  2.28634104e-02  3.50625906e-03\n",
      "  8.88338387e-02 -2.17469875e-02  7.32042454e-03  4.30594981e-02\n",
      " -2.76750047e-03 -1.28804967e-02  1.48883078e-03 -7.65301613e-03\n",
      "  7.79354014e-04  3.98992710e-02  1.81989558e-02  2.18542665e-03\n",
      " -1.44025972e-02  6.61468878e-02  1.29944878e-02  3.00711254e-04\n",
      "  6.94511533e-02  9.69154015e-03  7.73053244e-02  1.49983671e-02\n",
      "  7.68603012e-02  1.50437709e-02 -2.70854421e-02  1.03822220e-02\n",
      " -6.34134607e-03 -1.86572243e-02 -5.77929951e-02  2.80815568e-02\n",
      "  2.32388899e-02 -2.65862346e-02 -4.37124558e-02  2.25695260e-02\n",
      "  2.60373689e-02  5.91906048e-02 -9.07659903e-03 -2.58117504e-02\n",
      " -2.82169296e-03 -1.48377232e-02 -2.11603045e-02  2.95709576e-02\n",
      " -6.05772771e-02  9.92965326e-03  3.09266965e-03 -2.78295334e-02\n",
      " -4.66294661e-02 -1.66598447e-02 -3.01650818e-02 -4.93830182e-02\n",
      " -4.89022471e-02 -1.16061708e-02  1.28895268e-02 -1.51608856e-02\n",
      " -1.83716696e-02 -6.28018752e-03  4.56338422e-03 -3.93354967e-02\n",
      "  1.97599102e-02 -2.09158231e-02  3.26804556e-02 -9.99122038e-02\n",
      " -7.31076999e-03 -2.85855196e-02 -4.75265756e-02 -7.53558800e-03\n",
      "  7.45948823e-03 -1.76943969e-02 -3.87278199e-02 -1.26046482e-02\n",
      "  6.57023117e-02  9.98488292e-02  3.23767364e-02 -3.14150788e-02\n",
      " -3.39231677e-02  2.18933690e-02  4.17155810e-02 -2.91292779e-02\n",
      "  1.69252399e-02 -2.70651132e-02  1.02947829e-02 -8.51275865e-03\n",
      "  5.82498722e-02  6.05039997e-03  2.51693316e-02  1.17143877e-02\n",
      " -1.43268276e-02 -2.68336162e-02 -3.36446017e-02  4.13522609e-02\n",
      "  1.23573449e-02  3.27557512e-02  1.36756781e-03 -3.43487933e-02\n",
      " -2.23306306e-02  1.16950935e-02  2.89603751e-02  9.82660241e-03\n",
      "  4.48702984e-02  1.36506343e-02 -2.55217813e-02  1.16558308e-02\n",
      "  1.72282290e-02 -1.19526507e-02  2.94619966e-02  5.43999858e-03\n",
      "  7.05649005e-03 -2.76310071e-02  2.19648480e-02  2.89274342e-02\n",
      "  2.90116072e-02  1.71293989e-02  1.71571840e-02  3.06242574e-02\n",
      " -3.33006051e-03 -4.28258404e-02 -2.78930794e-02 -8.78215861e-03\n",
      " -1.97481806e-03 -3.04208454e-02  1.01123974e-01  1.11175617e-02\n",
      "  3.70049430e-03  3.05223670e-02 -6.94841798e-03  3.36759426e-02\n",
      "  1.49478689e-02  5.09507284e-02 -6.17867634e-02 -6.54374138e-02\n",
      "  1.01318546e-02  8.71546753e-03 -2.13060677e-02 -7.16117350e-03\n",
      "  2.81146206e-02  6.08831737e-03 -6.53893724e-02  8.65299180e-02\n",
      " -4.26638536e-02 -1.95683632e-02  6.20290171e-03  5.45220450e-02\n",
      " -2.94219528e-04 -7.94979781e-02  2.34850831e-02 -2.81759482e-02\n",
      " -2.67926771e-02  8.09148978e-03  1.06042726e-02 -3.51758115e-02\n",
      "  3.66235040e-02  1.09313345e-02  2.97116581e-02  1.30287977e-02\n",
      " -3.92856821e-02  1.45116476e-02  1.87349394e-02 -1.32706771e-02\n",
      "  6.87149689e-02 -3.04465145e-02 -2.08048206e-02  1.08850077e-02\n",
      "  2.52188966e-02  1.71259716e-02 -3.36281583e-02  5.18848933e-02\n",
      " -1.62589997e-02  1.43419132e-02 -5.09705693e-02  7.62143731e-02\n",
      " -3.95713933e-03 -6.92037344e-02 -5.83421588e-02 -1.35672968e-02\n",
      "  6.34212652e-03  1.52591672e-02  6.45110430e-03  4.78065619e-03\n",
      "  2.21218765e-02 -1.46030830e-02  1.99064724e-02  4.94005494e-02\n",
      "  3.77785936e-02 -4.72103283e-02  1.19166973e-03 -7.77721927e-02\n",
      "  7.51761273e-02  1.51350126e-02 -3.00767180e-02 -2.54277568e-02\n",
      " -7.68555468e-03 -3.32965702e-02  2.68354230e-02  1.16432942e-02\n",
      " -2.65072174e-02 -2.21001040e-02  3.13200206e-02 -1.75454877e-02\n",
      "  1.62755232e-02  1.05225649e-02  4.59099971e-02  1.12993894e-02\n",
      "  2.25952035e-03 -4.32900712e-02  2.55049206e-02  9.08372626e-02\n",
      "  3.49960811e-02  1.99541543e-02  8.99380445e-02 -1.25246579e-02\n",
      "  2.99614780e-02  5.30707743e-03  3.87516618e-02 -7.73842931e-02\n",
      " -2.13107690e-02  1.71742607e-02 -2.26807650e-02  3.90662327e-02\n",
      " -1.48159591e-02  6.43334761e-02  4.15602587e-02  3.50660365e-03\n",
      " -3.73802185e-02 -2.15710606e-02  3.59705389e-02  1.26669956e-02\n",
      "  1.18572516e-02 -1.57606732e-02  2.89345458e-02 -1.26261171e-03\n",
      " -1.25825303e-02 -1.85953155e-02 -4.02568579e-02 -4.52977717e-02\n",
      " -3.23485136e-02 -9.25442576e-03  1.25144683e-02 -1.65086165e-02\n",
      "  1.14768222e-02  2.81502958e-02  8.33325684e-02  3.36188190e-02\n",
      "  4.08905471e-04  3.39801013e-02  1.61180869e-02  3.48992012e-02\n",
      "  1.53090339e-02 -1.57535337e-02  4.15873267e-02 -2.98247542e-02\n",
      " -4.53814566e-02 -1.02242269e-01  4.03168201e-02  1.70004610e-02\n",
      "  1.87225137e-02 -2.08056159e-03 -3.33347148e-03  3.12028900e-02\n",
      "  4.42115270e-04 -6.45756274e-02 -6.61168694e-02 -6.12062477e-02\n",
      " -1.36192273e-02 -2.49696337e-02  6.13837913e-02  2.51729693e-02\n",
      " -6.04648935e-03  2.46976260e-02  1.33111915e-02  2.91291084e-02\n",
      " -3.77130173e-02  3.14110033e-02  7.01060072e-02 -1.87029354e-02\n",
      "  4.64438722e-02 -3.50710638e-02  5.78636210e-03  2.02969946e-02\n",
      " -9.14944743e-04  2.73546875e-02 -4.49903533e-02 -1.92701668e-02\n",
      " -1.94973231e-03 -2.72162706e-02 -1.74496416e-03  5.99824153e-02\n",
      "  3.38420132e-03 -4.43555191e-02  2.25252081e-02 -1.98008996e-02\n",
      " -1.27885602e-02 -1.68490708e-02 -3.18891108e-02 -9.83177498e-03\n",
      " -2.37169173e-02 -3.51696857e-04  2.70687998e-03  4.34032902e-02\n",
      "  2.23510200e-03  1.04528265e-02 -1.25210891e-02  3.80455628e-02\n",
      " -5.37332147e-04 -1.31308073e-02  1.76104922e-02 -3.21534870e-04\n",
      " -4.33224104e-02 -6.97795153e-02  2.04764772e-02  2.54789717e-03\n",
      "  3.64245921e-02  1.31792901e-02  3.74211743e-02 -2.40744539e-02\n",
      "  1.58512797e-02  2.33806074e-02 -1.43252769e-02  9.85239074e-03\n",
      " -1.55072957e-02  8.11946020e-03 -2.57197600e-02  4.66312608e-03\n",
      " -1.50064649e-02 -1.59888808e-02 -6.18274026e-02 -3.19934897e-02\n",
      "  3.00307292e-02 -2.62036137e-02 -4.40740213e-02  4.71212380e-02\n",
      " -8.53406191e-02  5.49824983e-02 -6.54159253e-03  4.11518440e-02\n",
      "  4.12454195e-02 -2.99727451e-02  8.77856538e-02 -4.84293234e-03\n",
      " -1.86586771e-02 -2.43209656e-02 -3.44153540e-03  1.71137284e-02\n",
      "  5.27162366e-02 -3.81458215e-02 -6.85427934e-02  1.49509488e-02\n",
      " -2.22115088e-02 -2.86750142e-02 -2.97921919e-03 -3.73255640e-33\n",
      " -8.48157424e-03  5.95543645e-02 -9.73879825e-03  2.78522763e-02\n",
      "  4.26138286e-03 -4.62204181e-02 -1.60551936e-04  2.03653406e-02\n",
      "  2.74291784e-02  3.67005207e-02  8.95551499e-03  7.47958273e-02\n",
      " -5.74467843e-03  1.78796798e-02 -8.56289081e-03 -1.87858269e-02\n",
      " -2.86744498e-02  5.29133761e-03 -7.28304125e-03 -1.84069015e-02\n",
      " -3.48132364e-02  5.07888943e-02  3.45482007e-02 -4.04979736e-02\n",
      " -4.27604578e-02  2.78409217e-02  4.66893241e-02 -6.46444932e-02\n",
      " -5.29189780e-03 -5.78816980e-03 -1.56755205e-02 -5.47079556e-03\n",
      "  1.39788566e-02 -1.11809396e-03  5.50428405e-04 -2.26584431e-02\n",
      "  1.50561575e-02  3.38191241e-02 -8.25202931e-03  2.16513388e-02\n",
      "  8.77524377e-04 -2.40296451e-03 -2.82622911e-02  1.05069252e-02\n",
      "  3.68514434e-02 -2.31945440e-02 -2.93092784e-02 -4.81787547e-02\n",
      "  2.89041344e-02 -4.68107834e-02 -3.55234966e-02 -2.09481362e-02\n",
      " -8.83264560e-03  8.06664377e-02 -8.48142654e-02 -3.95479761e-02\n",
      " -5.03684841e-02  2.69837808e-02 -3.94657440e-03 -2.39756014e-02\n",
      "  3.29292305e-02  4.16704975e-02 -2.45395787e-02 -3.85609642e-02\n",
      " -3.02901454e-02 -2.84514613e-02 -6.83769062e-02 -9.38016362e-03\n",
      " -4.70948666e-02 -2.15400625e-02  4.15227711e-02  6.90570008e-03\n",
      "  2.96323765e-02 -1.55480681e-02 -2.56336015e-02 -4.94204685e-02\n",
      " -1.07960664e-02  1.36496639e-02  8.46190844e-03  4.44031768e-02\n",
      "  3.94002505e-04  2.20193658e-02  3.60401310e-02  5.93104549e-02\n",
      "  2.14909837e-02 -1.90565884e-02 -2.08019279e-02  1.91410426e-02\n",
      " -3.78733431e-03  1.66846514e-02  2.79686302e-02 -6.88841892e-03\n",
      " -9.25205462e-03 -2.20814720e-02  4.68296185e-02  2.11678464e-02\n",
      " -2.44130865e-02 -7.68514676e-03  3.94079983e-02 -5.65718338e-02\n",
      "  8.71800911e-03  2.10748389e-02 -1.76222529e-02  5.53251058e-02\n",
      "  3.49679515e-02 -2.62318961e-02  5.69753982e-02 -7.94603974e-02\n",
      " -1.52109871e-02  2.09261514e-02  1.75831318e-02  4.12070416e-02\n",
      "  2.66289990e-02 -1.34375673e-02 -4.86178100e-02  1.27243083e-02\n",
      "  9.39346943e-03 -8.11941270e-03  2.95723472e-02 -6.94516525e-02\n",
      " -7.10697845e-02  3.01107124e-04  4.31027934e-02 -5.95075078e-02\n",
      "  2.65519693e-02 -5.90478592e-02  4.46865112e-02 -1.46237081e-02\n",
      " -9.81812086e-03 -4.89699431e-02  1.01139881e-02  2.82771830e-02\n",
      "  1.99888504e-07 -6.35881573e-02  1.15379617e-02 -1.61977112e-02\n",
      " -3.75170782e-02  2.24944931e-02  5.74996555e-03 -6.25733584e-02\n",
      " -1.51105877e-02  2.80584991e-02  3.69874947e-02 -4.67125140e-02\n",
      " -2.84615997e-02  1.72772314e-02 -9.28013306e-03  7.98695683e-02\n",
      " -8.46899822e-02  3.83958668e-02  1.41009304e-03 -9.62683279e-03\n",
      "  1.36490362e-02 -1.77746620e-02  4.18013707e-02  8.53310246e-03\n",
      " -1.77575252e-03 -8.90155416e-03  3.19797732e-02  3.75544615e-02\n",
      "  1.10768927e-02  5.14425486e-02  4.77531813e-02  9.78296623e-02\n",
      " -9.33893118e-03 -6.87361807e-02 -3.38471383e-02 -4.79166023e-03\n",
      " -3.35370302e-02 -2.90469639e-02  2.22573690e-02 -6.03131892e-04\n",
      "  4.80033681e-02 -3.26162912e-02  7.76100382e-02 -2.88890637e-02\n",
      " -1.22943250e-02  1.82095952e-02 -1.09790392e-01 -2.57627424e-02\n",
      "  3.70127670e-02 -6.64482731e-03 -2.65492108e-02  2.67257690e-02\n",
      "  2.67418381e-02  6.14944007e-03  3.98129150e-02 -1.56971649e-03\n",
      "  6.82445476e-04  4.84148934e-02  2.97235255e-03 -1.46997049e-02\n",
      " -3.73888053e-02 -1.90462973e-02  4.02793437e-02  1.27058383e-03\n",
      "  1.20822783e-03 -5.90572879e-02 -1.78195927e-02 -5.61401285e-02\n",
      "  9.20051393e-35  1.11877574e-02  1.60857234e-02  9.83773358e-03\n",
      " -2.01887507e-02 -7.61516625e-03 -4.81337458e-02 -6.21873774e-02\n",
      "  6.26680907e-03 -9.15235803e-02 -3.96999978e-02 -4.33049053e-02]\n"
     ]
    }
   ],
   "source": [
    "print(vectors[0])"
   ]
  },
  {
   "cell_type": "code",
   "execution_count": 38,
   "id": "e46b3c6c-2823-4681-8bef-e075b9243889",
   "metadata": {},
   "outputs": [
    {
     "data": {
      "text/plain": [
       "768"
      ]
     },
     "execution_count": 38,
     "metadata": {},
     "output_type": "execute_result"
    }
   ],
   "source": [
    "dim=vectors.shape[1]\n",
    "dim"
   ]
  },
  {
   "cell_type": "code",
   "execution_count": 42,
   "id": "cb656cb5-f2fc-4b86-b0a5-69aadd1f13ee",
   "metadata": {
    "scrolled": true
   },
   "outputs": [
    {
     "name": "stdout",
     "output_type": "stream",
     "text": [
      "Defaulting to user installation because normal site-packages is not writeable\n",
      "Collecting faiss-cpu\n",
      "  Downloading faiss_cpu-1.11.0-cp312-cp312-win_amd64.whl.metadata (5.0 kB)\n",
      "Requirement already satisfied: numpy<3.0,>=1.25.0 in c:\\programdata\\anaconda3\\lib\\site-packages (from faiss-cpu) (1.26.4)\n",
      "Requirement already satisfied: packaging in c:\\programdata\\anaconda3\\lib\\site-packages (from faiss-cpu) (24.1)\n",
      "Downloading faiss_cpu-1.11.0-cp312-cp312-win_amd64.whl (15.0 MB)\n",
      "   ---------------------------------------- 0.0/15.0 MB ? eta -:--:--\n",
      "   --- ------------------------------------ 1.3/15.0 MB 8.4 MB/s eta 0:00:02\n",
      "   ------- -------------------------------- 2.9/15.0 MB 7.0 MB/s eta 0:00:02\n",
      "   ---------- ----------------------------- 3.9/15.0 MB 6.5 MB/s eta 0:00:02\n",
      "   ------------- -------------------------- 5.0/15.0 MB 6.4 MB/s eta 0:00:02\n",
      "   ---------------- ----------------------- 6.3/15.0 MB 6.1 MB/s eta 0:00:02\n",
      "   ------------------- -------------------- 7.3/15.0 MB 6.0 MB/s eta 0:00:02\n",
      "   -------------------- ------------------- 7.9/15.0 MB 5.5 MB/s eta 0:00:02\n",
      "   ---------------------- ----------------- 8.4/15.0 MB 5.1 MB/s eta 0:00:02\n",
      "   ----------------------- ---------------- 8.7/15.0 MB 4.8 MB/s eta 0:00:02\n",
      "   ------------------------- -------------- 9.4/15.0 MB 4.4 MB/s eta 0:00:02\n",
      "   -------------------------- ------------- 10.0/15.0 MB 4.4 MB/s eta 0:00:02\n",
      "   --------------------------- ------------ 10.5/15.0 MB 4.1 MB/s eta 0:00:02\n",
      "   ---------------------------- ----------- 10.7/15.0 MB 4.0 MB/s eta 0:00:02\n",
      "   ------------------------------ --------- 11.3/15.0 MB 3.9 MB/s eta 0:00:01\n",
      "   --------------------------------- ------ 12.6/15.0 MB 4.0 MB/s eta 0:00:01\n",
      "   ----------------------------------- ---- 13.4/15.0 MB 4.0 MB/s eta 0:00:01\n",
      "   ---------------------------------------  14.7/15.0 MB 4.1 MB/s eta 0:00:01\n",
      "   ---------------------------------------- 15.0/15.0 MB 4.1 MB/s eta 0:00:00\n",
      "Installing collected packages: faiss-cpu\n",
      "Successfully installed faiss-cpu-1.11.0\n",
      "Note: you may need to restart the kernel to use updated packages.\n"
     ]
    }
   ],
   "source": [
    "pip install faiss-cpu"
   ]
  },
  {
   "cell_type": "code",
   "execution_count": 44,
   "id": "f6770ef3-6b0b-45a6-a915-239e6dd1f2a1",
   "metadata": {},
   "outputs": [],
   "source": [
    "import faiss"
   ]
  },
  {
   "cell_type": "code",
   "execution_count": 46,
   "id": "f51b6007-f41a-47d9-8821-df8325ae85ab",
   "metadata": {},
   "outputs": [
    {
     "data": {
      "text/plain": [
       "<faiss.swigfaiss_avx2.IndexFlatL2; proxy of <Swig Object of type 'faiss::IndexFlatL2 *' at 0x00000257812D8960> >"
      ]
     },
     "execution_count": 46,
     "metadata": {},
     "output_type": "execute_result"
    }
   ],
   "source": [
    "index=faiss.IndexFlatL2(dim)\n",
    "index"
   ]
  },
  {
   "cell_type": "code",
   "execution_count": 48,
   "id": "adfe8990-42f8-430f-bd75-06a7ebcc6e7b",
   "metadata": {},
   "outputs": [],
   "source": [
    "index.add(vectors)"
   ]
  },
  {
   "cell_type": "code",
   "execution_count": 82,
   "id": "21387a7d-a971-42e5-ae41-84279e61abb3",
   "metadata": {},
   "outputs": [
    {
     "data": {
      "text/plain": [
       "(768,)"
      ]
     },
     "execution_count": 82,
     "metadata": {},
     "output_type": "execute_result"
    }
   ],
   "source": [
    "search_query = \"you shouldn't visit Bali if you are in a relationship.\"\n",
    "\n",
    "vec=encoder.encode(search_query)\n",
    "vec.shape"
   ]
  },
  {
   "cell_type": "code",
   "execution_count": 84,
   "id": "1122ebc8-fdcc-4b27-914d-aab9fb35fa5f",
   "metadata": {},
   "outputs": [
    {
     "data": {
      "text/plain": [
       "(1, 768)"
      ]
     },
     "execution_count": 84,
     "metadata": {},
     "output_type": "execute_result"
    }
   ],
   "source": [
    "import numpy as np\n",
    "svec = np.array(vec).reshape(1,-1)\n",
    "svec.shape"
   ]
  },
  {
   "cell_type": "code",
   "execution_count": 86,
   "id": "dcb97846-2dcf-4c32-9b34-f1ca76808c2b",
   "metadata": {},
   "outputs": [],
   "source": [
    "distances, I = index.search(svec,k=2)"
   ]
  },
  {
   "cell_type": "code",
   "execution_count": 88,
   "id": "c57c3b3a-73d8-420d-a3fe-c17d84c65605",
   "metadata": {},
   "outputs": [
    {
     "data": {
      "text/html": [
       "<div>\n",
       "<style scoped>\n",
       "    .dataframe tbody tr th:only-of-type {\n",
       "        vertical-align: middle;\n",
       "    }\n",
       "\n",
       "    .dataframe tbody tr th {\n",
       "        vertical-align: top;\n",
       "    }\n",
       "\n",
       "    .dataframe thead th {\n",
       "        text-align: right;\n",
       "    }\n",
       "</style>\n",
       "<table border=\"1\" class=\"dataframe\">\n",
       "  <thead>\n",
       "    <tr style=\"text-align: right;\">\n",
       "      <th></th>\n",
       "      <th>text</th>\n",
       "      <th>category</th>\n",
       "    </tr>\n",
       "  </thead>\n",
       "  <tbody>\n",
       "    <tr>\n",
       "      <th>7</th>\n",
       "      <td>Maldives and Srilanka are gaining popularity in terms of low budget vacation places</td>\n",
       "      <td>Travel</td>\n",
       "    </tr>\n",
       "    <tr>\n",
       "      <th>6</th>\n",
       "      <td>Exciting vacation destinations for your next trip</td>\n",
       "      <td>Travel</td>\n",
       "    </tr>\n",
       "  </tbody>\n",
       "</table>\n",
       "</div>"
      ],
      "text/plain": [
       "                                                                                  text  \\\n",
       "7  Maldives and Srilanka are gaining popularity in terms of low budget vacation places   \n",
       "6                                    Exciting vacation destinations for your next trip   \n",
       "\n",
       "  category  \n",
       "7   Travel  \n",
       "6   Travel  "
      ]
     },
     "execution_count": 88,
     "metadata": {},
     "output_type": "execute_result"
    }
   ],
   "source": [
    "df.loc[I[0]]"
   ]
  },
  {
   "cell_type": "code",
   "execution_count": null,
   "id": "92e1617a-5f5a-4438-bc07-7174f6b39e3e",
   "metadata": {},
   "outputs": [],
   "source": []
  }
 ],
 "metadata": {
  "kernelspec": {
   "display_name": "Python 3 (ipykernel)",
   "language": "python",
   "name": "python3"
  },
  "language_info": {
   "codemirror_mode": {
    "name": "ipython",
    "version": 3
   },
   "file_extension": ".py",
   "mimetype": "text/x-python",
   "name": "python",
   "nbconvert_exporter": "python",
   "pygments_lexer": "ipython3",
   "version": "3.12.7"
  }
 },
 "nbformat": 4,
 "nbformat_minor": 5
}
